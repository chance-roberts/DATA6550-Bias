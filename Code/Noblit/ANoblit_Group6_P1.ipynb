{
 "cells": [
  {
   "cell_type": "markdown",
   "id": "4830401d-fc93-4456-a256-3d7e2e7bd881",
   "metadata": {},
   "source": [
    "## Project 1: Exploring Bias In Data-COMPAS"
   ]
  },
  {
   "cell_type": "markdown",
   "id": "a8c2d27e-64d4-43b0-b314-294948a24646",
   "metadata": {},
   "source": [
    "## Project Objective: \n",
    "### Explore COMPAS/Propublica Data for any relationship between Gender and Recidivism Scores\n",
    "\n",
    "- Visualize the gender distribution using count plots.\n",
    "- Calculate the percentage of each gender and check for any disproportionate representation.\n",
    "- Use boxplots to show how juvenile felony counts vary by gender.\n",
    "- Conduct statistical tests (e.g., ANOVA) to test for significant differences between genders.\n",
    "- Discuss any gender-related trends in the dataset.\n"
   ]
  },
  {
   "cell_type": "markdown",
   "id": "9188a96a-a4e3-407f-8f70-a2c727d75575",
   "metadata": {},
   "source": [
    "## Section 1: Import Libraries"
   ]
  },
  {
   "cell_type": "code",
   "execution_count": 3,
   "id": "52c89eec-a814-4fc8-9075-023b7b20354d",
   "metadata": {
    "execution": {
     "iopub.execute_input": "2025-02-06T04:44:13.652072Z",
     "iopub.status.busy": "2025-02-06T04:44:13.651562Z",
     "iopub.status.idle": "2025-02-06T04:44:16.591842Z",
     "shell.execute_reply": "2025-02-06T04:44:16.590989Z",
     "shell.execute_reply.started": "2025-02-06T04:44:13.652037Z"
    }
   },
   "outputs": [],
   "source": [
    "#Import initial Anaconda Libraries\n",
    "\n",
    "import numpy as np\n",
    "import pandas as pd\n",
    "import matplotlib.pyplot as plt\n",
    "import seaborn as sns\n",
    "\n",
    "plt.style.use(\"seaborn-v0_8\")"
   ]
  },
  {
   "cell_type": "markdown",
   "id": "c2adbfe2-a61e-4537-8fb8-708affe440f1",
   "metadata": {},
   "source": [
    "## Section 2: Import the Data\n"
   ]
  },
  {
   "cell_type": "code",
   "execution_count": 5,
   "id": "70653639-b18d-488e-876c-99d1ad86acbd",
   "metadata": {
    "execution": {
     "iopub.execute_input": "2025-02-06T04:44:16.610354Z",
     "iopub.status.busy": "2025-02-06T04:44:16.610034Z",
     "iopub.status.idle": "2025-02-06T04:44:16.767854Z",
     "shell.execute_reply": "2025-02-06T04:44:16.766933Z",
     "shell.execute_reply.started": "2025-02-06T04:44:16.610334Z"
    }
   },
   "outputs": [],
   "source": [
    "# Code Block 02\n",
    "#Import dataset from Kaggle: cox-violent-parsed-filter.csv\n",
    "\n",
    "df_cvpf = pd.read_csv('cox-violent-parsed_filt.csv', index_col = None, header=0)"
   ]
  },
  {
   "cell_type": "code",
   "execution_count": 6,
   "id": "abff5463-5ba0-4fc8-af6c-cdf93b2c9eb8",
   "metadata": {
    "execution": {
     "iopub.execute_input": "2025-02-06T04:44:16.771184Z",
     "iopub.status.busy": "2025-02-06T04:44:16.770565Z",
     "iopub.status.idle": "2025-02-06T04:44:16.810946Z",
     "shell.execute_reply": "2025-02-06T04:44:16.810165Z",
     "shell.execute_reply.started": "2025-02-06T04:44:16.771159Z"
    }
   },
   "outputs": [
    {
     "name": "stdout",
     "output_type": "stream",
     "text": [
      "<class 'pandas.core.frame.DataFrame'>\n",
      "RangeIndex: 18316 entries, 0 to 18315\n",
      "Data columns (total 40 columns):\n",
      " #   Column                   Non-Null Count  Dtype  \n",
      "---  ------                   --------------  -----  \n",
      " 0   id                       11001 non-null  float64\n",
      " 1   name                     18316 non-null  object \n",
      " 2   first                    18316 non-null  object \n",
      " 3   last                     18316 non-null  object \n",
      " 4   sex                      18316 non-null  object \n",
      " 5   dob                      18316 non-null  object \n",
      " 6   age                      18316 non-null  int64  \n",
      " 7   age_cat                  18316 non-null  object \n",
      " 8   race                     18316 non-null  object \n",
      " 9   juv_fel_count            18316 non-null  int64  \n",
      " 10  decile_score             18316 non-null  int64  \n",
      " 11  juv_misd_count           18316 non-null  int64  \n",
      " 12  juv_other_count          18316 non-null  int64  \n",
      " 13  priors_count             18316 non-null  int64  \n",
      " 14  days_b_screening_arrest  17019 non-null  float64\n",
      " 15  c_jail_in                17019 non-null  object \n",
      " 16  c_jail_out               17019 non-null  object \n",
      " 17  c_days_from_compas       17449 non-null  float64\n",
      " 18  c_charge_degree          17449 non-null  object \n",
      " 19  c_charge_desc            17435 non-null  object \n",
      " 20  is_recid                 18316 non-null  int64  \n",
      " 21  r_charge_degree          8417 non-null   object \n",
      " 22  r_days_from_arrest       6359 non-null   float64\n",
      " 23  r_offense_date           8417 non-null   object \n",
      " 24  r_charge_desc            8277 non-null   object \n",
      " 25  r_jail_in                6359 non-null   object \n",
      " 26  violent_recid            0 non-null      float64\n",
      " 27  is_violent_recid         18316 non-null  int64  \n",
      " 28  vr_charge_degree         1339 non-null   object \n",
      " 29  vr_offense_date          1339 non-null   object \n",
      " 30  vr_charge_desc           1339 non-null   object \n",
      " 31  type_of_assessment       18316 non-null  object \n",
      " 32  decile_score.1           18316 non-null  int64  \n",
      " 33  score_text               18293 non-null  object \n",
      " 34  screening_date           18316 non-null  object \n",
      " 35  v_type_of_assessment     18316 non-null  object \n",
      " 36  v_decile_score           18316 non-null  int64  \n",
      " 37  v_score_text             18310 non-null  object \n",
      " 38  priors_count.1           18316 non-null  int64  \n",
      " 39  event                    18316 non-null  int64  \n",
      "dtypes: float64(5), int64(12), object(23)\n",
      "memory usage: 5.6+ MB\n"
     ]
    }
   ],
   "source": [
    "#Code Block 03\n",
    "#View data info\n",
    "\n",
    "df_cvpf.info(verbose=True)"
   ]
  },
  {
   "cell_type": "code",
   "execution_count": 10,
   "id": "e32c1d4a-c89f-4fb3-a565-103fc1766b10",
   "metadata": {
    "execution": {
     "iopub.execute_input": "2025-02-06T04:44:17.053410Z",
     "iopub.status.busy": "2025-02-06T04:44:17.052071Z",
     "iopub.status.idle": "2025-02-06T04:44:17.100419Z",
     "shell.execute_reply": "2025-02-06T04:44:17.099058Z",
     "shell.execute_reply.started": "2025-02-06T04:44:17.053009Z"
    }
   },
   "outputs": [
    {
     "data": {
      "text/html": [
       "<div>\n",
       "<style scoped>\n",
       "    .dataframe tbody tr th:only-of-type {\n",
       "        vertical-align: middle;\n",
       "    }\n",
       "\n",
       "    .dataframe tbody tr th {\n",
       "        vertical-align: top;\n",
       "    }\n",
       "\n",
       "    .dataframe thead th {\n",
       "        text-align: right;\n",
       "    }\n",
       "</style>\n",
       "<table border=\"1\" class=\"dataframe\">\n",
       "  <thead>\n",
       "    <tr style=\"text-align: right;\">\n",
       "      <th></th>\n",
       "      <th>id</th>\n",
       "      <th>name</th>\n",
       "      <th>first</th>\n",
       "      <th>last</th>\n",
       "      <th>sex</th>\n",
       "      <th>dob</th>\n",
       "      <th>age</th>\n",
       "      <th>age_cat</th>\n",
       "      <th>race</th>\n",
       "      <th>juv_fel_count</th>\n",
       "      <th>...</th>\n",
       "      <th>vr_charge_desc</th>\n",
       "      <th>type_of_assessment</th>\n",
       "      <th>decile_score.1</th>\n",
       "      <th>score_text</th>\n",
       "      <th>screening_date</th>\n",
       "      <th>v_type_of_assessment</th>\n",
       "      <th>v_decile_score</th>\n",
       "      <th>v_score_text</th>\n",
       "      <th>priors_count.1</th>\n",
       "      <th>event</th>\n",
       "    </tr>\n",
       "  </thead>\n",
       "  <tbody>\n",
       "    <tr>\n",
       "      <th>0</th>\n",
       "      <td>1.0</td>\n",
       "      <td>miguel hernandez</td>\n",
       "      <td>miguel</td>\n",
       "      <td>hernandez</td>\n",
       "      <td>Male</td>\n",
       "      <td>18/04/1947</td>\n",
       "      <td>69</td>\n",
       "      <td>Greater than 45</td>\n",
       "      <td>Other</td>\n",
       "      <td>0</td>\n",
       "      <td>...</td>\n",
       "      <td>NaN</td>\n",
       "      <td>Risk of Recidivism</td>\n",
       "      <td>1</td>\n",
       "      <td>Low</td>\n",
       "      <td>14/08/2013</td>\n",
       "      <td>Risk of Violence</td>\n",
       "      <td>1</td>\n",
       "      <td>Low</td>\n",
       "      <td>0</td>\n",
       "      <td>0</td>\n",
       "    </tr>\n",
       "    <tr>\n",
       "      <th>1</th>\n",
       "      <td>2.0</td>\n",
       "      <td>miguel hernandez</td>\n",
       "      <td>miguel</td>\n",
       "      <td>hernandez</td>\n",
       "      <td>Male</td>\n",
       "      <td>18/04/1947</td>\n",
       "      <td>69</td>\n",
       "      <td>Greater than 45</td>\n",
       "      <td>Other</td>\n",
       "      <td>0</td>\n",
       "      <td>...</td>\n",
       "      <td>NaN</td>\n",
       "      <td>Risk of Recidivism</td>\n",
       "      <td>1</td>\n",
       "      <td>Low</td>\n",
       "      <td>14/08/2013</td>\n",
       "      <td>Risk of Violence</td>\n",
       "      <td>1</td>\n",
       "      <td>Low</td>\n",
       "      <td>0</td>\n",
       "      <td>0</td>\n",
       "    </tr>\n",
       "    <tr>\n",
       "      <th>2</th>\n",
       "      <td>3.0</td>\n",
       "      <td>michael ryan</td>\n",
       "      <td>michael</td>\n",
       "      <td>ryan</td>\n",
       "      <td>Male</td>\n",
       "      <td>06/02/1985</td>\n",
       "      <td>31</td>\n",
       "      <td>25 - 45</td>\n",
       "      <td>Caucasian</td>\n",
       "      <td>0</td>\n",
       "      <td>...</td>\n",
       "      <td>NaN</td>\n",
       "      <td>Risk of Recidivism</td>\n",
       "      <td>5</td>\n",
       "      <td>Medium</td>\n",
       "      <td>31/12/2014</td>\n",
       "      <td>Risk of Violence</td>\n",
       "      <td>2</td>\n",
       "      <td>Low</td>\n",
       "      <td>0</td>\n",
       "      <td>0</td>\n",
       "    </tr>\n",
       "    <tr>\n",
       "      <th>3</th>\n",
       "      <td>4.0</td>\n",
       "      <td>kevon dixon</td>\n",
       "      <td>kevon</td>\n",
       "      <td>dixon</td>\n",
       "      <td>Male</td>\n",
       "      <td>22/01/1982</td>\n",
       "      <td>34</td>\n",
       "      <td>25 - 45</td>\n",
       "      <td>African-American</td>\n",
       "      <td>0</td>\n",
       "      <td>...</td>\n",
       "      <td>Felony Battery (Dom Strang)</td>\n",
       "      <td>Risk of Recidivism</td>\n",
       "      <td>3</td>\n",
       "      <td>Low</td>\n",
       "      <td>27/01/2013</td>\n",
       "      <td>Risk of Violence</td>\n",
       "      <td>1</td>\n",
       "      <td>Low</td>\n",
       "      <td>0</td>\n",
       "      <td>1</td>\n",
       "    </tr>\n",
       "    <tr>\n",
       "      <th>4</th>\n",
       "      <td>5.0</td>\n",
       "      <td>ed philo</td>\n",
       "      <td>ed</td>\n",
       "      <td>philo</td>\n",
       "      <td>Male</td>\n",
       "      <td>14/05/1991</td>\n",
       "      <td>24</td>\n",
       "      <td>Less than 25</td>\n",
       "      <td>African-American</td>\n",
       "      <td>0</td>\n",
       "      <td>...</td>\n",
       "      <td>NaN</td>\n",
       "      <td>Risk of Recidivism</td>\n",
       "      <td>4</td>\n",
       "      <td>Low</td>\n",
       "      <td>14/04/2013</td>\n",
       "      <td>Risk of Violence</td>\n",
       "      <td>3</td>\n",
       "      <td>Low</td>\n",
       "      <td>4</td>\n",
       "      <td>0</td>\n",
       "    </tr>\n",
       "  </tbody>\n",
       "</table>\n",
       "<p>5 rows × 40 columns</p>\n",
       "</div>"
      ],
      "text/plain": [
       "    id              name    first       last   sex         dob  age  \\\n",
       "0  1.0  miguel hernandez   miguel  hernandez  Male  18/04/1947   69   \n",
       "1  2.0  miguel hernandez   miguel  hernandez  Male  18/04/1947   69   \n",
       "2  3.0      michael ryan  michael       ryan  Male  06/02/1985   31   \n",
       "3  4.0       kevon dixon    kevon      dixon  Male  22/01/1982   34   \n",
       "4  5.0          ed philo       ed      philo  Male  14/05/1991   24   \n",
       "\n",
       "           age_cat              race  juv_fel_count  ...  \\\n",
       "0  Greater than 45             Other              0  ...   \n",
       "1  Greater than 45             Other              0  ...   \n",
       "2          25 - 45         Caucasian              0  ...   \n",
       "3          25 - 45  African-American              0  ...   \n",
       "4     Less than 25  African-American              0  ...   \n",
       "\n",
       "                vr_charge_desc  type_of_assessment  decile_score.1  \\\n",
       "0                          NaN  Risk of Recidivism               1   \n",
       "1                          NaN  Risk of Recidivism               1   \n",
       "2                          NaN  Risk of Recidivism               5   \n",
       "3  Felony Battery (Dom Strang)  Risk of Recidivism               3   \n",
       "4                          NaN  Risk of Recidivism               4   \n",
       "\n",
       "   score_text  screening_date v_type_of_assessment v_decile_score  \\\n",
       "0         Low      14/08/2013     Risk of Violence              1   \n",
       "1         Low      14/08/2013     Risk of Violence              1   \n",
       "2      Medium      31/12/2014     Risk of Violence              2   \n",
       "3         Low      27/01/2013     Risk of Violence              1   \n",
       "4         Low      14/04/2013     Risk of Violence              3   \n",
       "\n",
       "   v_score_text priors_count.1 event  \n",
       "0           Low              0     0  \n",
       "1           Low              0     0  \n",
       "2           Low              0     0  \n",
       "3           Low              0     1  \n",
       "4           Low              4     0  \n",
       "\n",
       "[5 rows x 40 columns]"
      ]
     },
     "execution_count": 10,
     "metadata": {},
     "output_type": "execute_result"
    }
   ],
   "source": [
    "#Code Block 04\n",
    "df_cvpf.head()"
   ]
  },
  {
   "cell_type": "code",
   "execution_count": 12,
   "id": "6e2d44d2-b6fd-4f8e-ae55-f8231a616df4",
   "metadata": {
    "execution": {
     "iopub.execute_input": "2025-02-06T04:44:17.713272Z",
     "iopub.status.busy": "2025-02-06T04:44:17.712471Z",
     "iopub.status.idle": "2025-02-06T04:44:17.758183Z",
     "shell.execute_reply": "2025-02-06T04:44:17.757413Z",
     "shell.execute_reply.started": "2025-02-06T04:44:17.713238Z"
    }
   },
   "outputs": [
    {
     "name": "stdout",
     "output_type": "stream",
     "text": [
      "<class 'pandas.core.frame.DataFrame'>\n",
      "Index: 10855 entries, 0 to 18314\n",
      "Data columns (total 40 columns):\n",
      " #   Column                   Non-Null Count  Dtype  \n",
      "---  ------                   --------------  -----  \n",
      " 0   id                       6560 non-null   float64\n",
      " 1   name                     10855 non-null  object \n",
      " 2   first                    10855 non-null  object \n",
      " 3   last                     10855 non-null  object \n",
      " 4   sex                      10855 non-null  object \n",
      " 5   dob                      10855 non-null  object \n",
      " 6   age                      10855 non-null  int64  \n",
      " 7   age_cat                  10855 non-null  object \n",
      " 8   race                     10855 non-null  object \n",
      " 9   juv_fel_count            10855 non-null  int64  \n",
      " 10  decile_score             10855 non-null  int64  \n",
      " 11  juv_misd_count           10855 non-null  int64  \n",
      " 12  juv_other_count          10855 non-null  int64  \n",
      " 13  priors_count             10855 non-null  int64  \n",
      " 14  days_b_screening_arrest  9781 non-null   float64\n",
      " 15  c_jail_in                9781 non-null   object \n",
      " 16  c_jail_out               9781 non-null   object \n",
      " 17  c_days_from_compas       10185 non-null  float64\n",
      " 18  c_charge_degree          10185 non-null  object \n",
      " 19  c_charge_desc            10178 non-null  object \n",
      " 20  is_recid                 10855 non-null  int64  \n",
      " 21  r_charge_degree          3425 non-null   object \n",
      " 22  r_days_from_arrest       2281 non-null   float64\n",
      " 23  r_offense_date           3425 non-null   object \n",
      " 24  r_charge_desc            3368 non-null   object \n",
      " 25  r_jail_in                2281 non-null   object \n",
      " 26  violent_recid            0 non-null      float64\n",
      " 27  is_violent_recid         10855 non-null  int64  \n",
      " 28  vr_charge_degree         809 non-null    object \n",
      " 29  vr_offense_date          809 non-null    object \n",
      " 30  vr_charge_desc           809 non-null    object \n",
      " 31  type_of_assessment       10855 non-null  object \n",
      " 32  decile_score.1           10855 non-null  int64  \n",
      " 33  score_text               10841 non-null  object \n",
      " 34  screening_date           10855 non-null  object \n",
      " 35  v_type_of_assessment     10855 non-null  object \n",
      " 36  v_decile_score           10855 non-null  int64  \n",
      " 37  v_score_text             10850 non-null  object \n",
      " 38  priors_count.1           10855 non-null  int64  \n",
      " 39  event                    10855 non-null  int64  \n",
      "dtypes: float64(5), int64(12), object(23)\n",
      "memory usage: 3.4+ MB\n"
     ]
    }
   ],
   "source": [
    "#Code Block 05\n",
    "#Drop duplicate names\n",
    "\n",
    "df_cvpf=df_cvpf.drop_duplicates(subset=['name'])\n",
    "df_cvpf.info()"
   ]
  },
  {
   "cell_type": "code",
   "execution_count": 14,
   "id": "5e1cea2f-8fd0-44c7-a3c7-0753c46e8763",
   "metadata": {
    "execution": {
     "iopub.execute_input": "2025-02-06T04:44:19.360076Z",
     "iopub.status.busy": "2025-02-06T04:44:19.359386Z",
     "iopub.status.idle": "2025-02-06T04:44:19.399730Z",
     "shell.execute_reply": "2025-02-06T04:44:19.399073Z",
     "shell.execute_reply.started": "2025-02-06T04:44:19.360049Z"
    }
   },
   "outputs": [
    {
     "name": "stdout",
     "output_type": "stream",
     "text": [
      "<class 'pandas.core.frame.DataFrame'>\n",
      "Index: 10855 entries, 0 to 18314\n",
      "Data columns (total 40 columns):\n",
      " #   Column                   Non-Null Count  Dtype  \n",
      "---  ------                   --------------  -----  \n",
      " 0   id                       10855 non-null  float64\n",
      " 1   name                     10855 non-null  object \n",
      " 2   first                    10855 non-null  object \n",
      " 3   last                     10855 non-null  object \n",
      " 4   sex                      10855 non-null  object \n",
      " 5   dob                      10855 non-null  object \n",
      " 6   age                      10855 non-null  int64  \n",
      " 7   age_cat                  10855 non-null  object \n",
      " 8   race                     10855 non-null  object \n",
      " 9   juv_fel_count            10855 non-null  int64  \n",
      " 10  decile_score             10855 non-null  int64  \n",
      " 11  juv_misd_count           10855 non-null  int64  \n",
      " 12  juv_other_count          10855 non-null  int64  \n",
      " 13  priors_count             10855 non-null  int64  \n",
      " 14  days_b_screening_arrest  10855 non-null  float64\n",
      " 15  c_jail_in                10855 non-null  object \n",
      " 16  c_jail_out               10855 non-null  object \n",
      " 17  c_days_from_compas       10855 non-null  float64\n",
      " 18  c_charge_degree          10855 non-null  object \n",
      " 19  c_charge_desc            10855 non-null  object \n",
      " 20  is_recid                 10855 non-null  int64  \n",
      " 21  r_charge_degree          10855 non-null  object \n",
      " 22  r_days_from_arrest       10855 non-null  float64\n",
      " 23  r_offense_date           10855 non-null  object \n",
      " 24  r_charge_desc            10855 non-null  object \n",
      " 25  r_jail_in                10855 non-null  object \n",
      " 26  violent_recid            10855 non-null  float64\n",
      " 27  is_violent_recid         10855 non-null  int64  \n",
      " 28  vr_charge_degree         10855 non-null  object \n",
      " 29  vr_offense_date          10855 non-null  object \n",
      " 30  vr_charge_desc           10855 non-null  object \n",
      " 31  type_of_assessment       10855 non-null  object \n",
      " 32  decile_score.1           10855 non-null  int64  \n",
      " 33  score_text               10855 non-null  object \n",
      " 34  screening_date           10855 non-null  object \n",
      " 35  v_type_of_assessment     10855 non-null  object \n",
      " 36  v_decile_score           10855 non-null  int64  \n",
      " 37  v_score_text             10855 non-null  object \n",
      " 38  priors_count.1           10855 non-null  int64  \n",
      " 39  event                    10855 non-null  int64  \n",
      "dtypes: float64(5), int64(12), object(23)\n",
      "memory usage: 3.4+ MB\n"
     ]
    }
   ],
   "source": [
    "#Code Block 06\n",
    "# Fill NaNs with 0\n",
    "df_cvpf=df_cvpf.fillna(0)\n",
    "df_cvpf.info()"
   ]
  },
  {
   "cell_type": "code",
   "execution_count": 45,
   "id": "1a97a5a4-c652-41aa-8832-e6ad8611fa85",
   "metadata": {
    "execution": {
     "iopub.execute_input": "2025-02-06T05:03:11.271944Z",
     "iopub.status.busy": "2025-02-06T05:03:11.271528Z",
     "iopub.status.idle": "2025-02-06T05:03:11.285580Z",
     "shell.execute_reply": "2025-02-06T05:03:11.284366Z",
     "shell.execute_reply.started": "2025-02-06T05:03:11.271920Z"
    }
   },
   "outputs": [
    {
     "data": {
      "text/html": [
       "<div>\n",
       "<style scoped>\n",
       "    .dataframe tbody tr th:only-of-type {\n",
       "        vertical-align: middle;\n",
       "    }\n",
       "\n",
       "    .dataframe tbody tr th {\n",
       "        vertical-align: top;\n",
       "    }\n",
       "\n",
       "    .dataframe thead th {\n",
       "        text-align: right;\n",
       "    }\n",
       "</style>\n",
       "<table border=\"1\" class=\"dataframe\">\n",
       "  <thead>\n",
       "    <tr style=\"text-align: right;\">\n",
       "      <th></th>\n",
       "      <th>sex</th>\n",
       "      <th>Count</th>\n",
       "      <th>Percentage</th>\n",
       "    </tr>\n",
       "  </thead>\n",
       "  <tbody>\n",
       "    <tr>\n",
       "      <th>0</th>\n",
       "      <td>Male</td>\n",
       "      <td>8604</td>\n",
       "      <td>79.263012</td>\n",
       "    </tr>\n",
       "    <tr>\n",
       "      <th>1</th>\n",
       "      <td>Female</td>\n",
       "      <td>2251</td>\n",
       "      <td>20.736988</td>\n",
       "    </tr>\n",
       "  </tbody>\n",
       "</table>\n",
       "</div>"
      ],
      "text/plain": [
       "      sex  Count  Percentage\n",
       "0    Male   8604   79.263012\n",
       "1  Female   2251   20.736988"
      ]
     },
     "execution_count": 45,
     "metadata": {},
     "output_type": "execute_result"
    }
   ],
   "source": [
    "#Code Block 07\n",
    "#Calculate the counts and percentage of each gender in the dataset\n",
    "\n",
    "#Gender counts\n",
    "gender_counts = df_cvpf['sex'].value_counts()\n",
    "\n",
    "#Gender percentages\n",
    "gender_percentages = (gender_counts / gender_counts.sum()) * 100\n",
    "\n",
    "# Combine counts and percentages into a DataFrame\n",
    "df_gen_dist = pd.DataFrame({ \"Count\": gender_counts,\"Percentage\": gender_percentages})\n",
    "\n",
    "df_gen_dist = df_gen_dist.reset_index()\n",
    "df_gen_dist.head()"
   ]
  },
  {
   "cell_type": "code",
   "execution_count": 22,
   "id": "a203b80e-8ac8-4a88-8e31-b32b53e28f55",
   "metadata": {
    "execution": {
     "iopub.execute_input": "2025-02-06T04:45:49.612792Z",
     "iopub.status.busy": "2025-02-06T04:45:49.612424Z",
     "iopub.status.idle": "2025-02-06T04:45:49.757324Z",
     "shell.execute_reply": "2025-02-06T04:45:49.756607Z",
     "shell.execute_reply.started": "2025-02-06T04:45:49.612770Z"
    }
   },
   "outputs": [
    {
     "data": {
      "image/png": "[encoded data removed]",
      "text/plain": [
       "<Figure size 1000x500 with 1 Axes>"
      ]
     },
     "metadata": {},
     "output_type": "display_data"
    }
   ],
   "source": [
    "# Code Block 08\n",
    "# Create count plot for gender distribution within the dataset\n",
    "\n",
    "plt.figure(figsize=(10, 5)) \n",
    "ax = sns.countplot(x= 'sex', data=df_cvpf)\n",
    "# Add labels and title\n",
    "\n",
    "plt.xlabel(\"Gender\")  # Label for the x-axis\n",
    "plt.ylabel(\"Count\")   # Label for the y-axis\n",
    "plt.title(\"Gender Distribution\")  # Title of the plot\n",
    "\n",
    "# Display the plot\n",
    "plt.show()"
   ]
  },
  {
   "cell_type": "code",
   "execution_count": 57,
   "id": "16b984e3-5d6f-4cd7-a664-48ccc35bf645",
   "metadata": {
    "execution": {
     "iopub.execute_input": "2025-02-06T05:10:45.292544Z",
     "iopub.status.busy": "2025-02-06T05:10:45.292169Z",
     "iopub.status.idle": "2025-02-06T05:10:45.298426Z",
     "shell.execute_reply": "2025-02-06T05:10:45.297837Z",
     "shell.execute_reply.started": "2025-02-06T05:10:45.292522Z"
    }
   },
   "outputs": [
    {
     "data": {
      "text/plain": [
       "juv_fel_count\n",
       "0     10486\n",
       "1       243\n",
       "2        66\n",
       "3        28\n",
       "4        16\n",
       "5         7\n",
       "8         2\n",
       "6         2\n",
       "10        2\n",
       "9         1\n",
       "20        1\n",
       "13        1\n",
       "Name: count, dtype: int64"
      ]
     },
     "execution_count": 57,
     "metadata": {},
     "output_type": "execute_result"
    }
   ],
   "source": [
    "df_cvpf['juv_fel_count'].value_counts()"
   ]
  },
  {
   "cell_type": "code",
   "execution_count": 69,
   "id": "77dd37a6-d985-43c6-8d53-cb940143169a",
   "metadata": {
    "execution": {
     "iopub.execute_input": "2025-02-06T05:14:52.171615Z",
     "iopub.status.busy": "2025-02-06T05:14:52.171243Z",
     "iopub.status.idle": "2025-02-06T05:14:52.184473Z",
     "shell.execute_reply": "2025-02-06T05:14:52.183898Z",
     "shell.execute_reply.started": "2025-02-06T05:14:52.171591Z"
    }
   },
   "outputs": [
    {
     "data": {
      "text/html": [
       "<div>\n",
       "<style scoped>\n",
       "    .dataframe tbody tr th:only-of-type {\n",
       "        vertical-align: middle;\n",
       "    }\n",
       "\n",
       "    .dataframe tbody tr th {\n",
       "        vertical-align: top;\n",
       "    }\n",
       "\n",
       "    .dataframe thead th {\n",
       "        text-align: right;\n",
       "    }\n",
       "</style>\n",
       "<table border=\"1\" class=\"dataframe\">\n",
       "  <thead>\n",
       "    <tr style=\"text-align: right;\">\n",
       "      <th></th>\n",
       "      <th>sex</th>\n",
       "      <th>juv_fel_count</th>\n",
       "    </tr>\n",
       "  </thead>\n",
       "  <tbody>\n",
       "    <tr>\n",
       "      <th>0</th>\n",
       "      <td>Female</td>\n",
       "      <td>30</td>\n",
       "    </tr>\n",
       "    <tr>\n",
       "      <th>1</th>\n",
       "      <td>Male</td>\n",
       "      <td>618</td>\n",
       "    </tr>\n",
       "  </tbody>\n",
       "</table>\n",
       "</div>"
      ],
      "text/plain": [
       "      sex  juv_fel_count\n",
       "0  Female             30\n",
       "1    Male            618"
      ]
     },
     "execution_count": 69,
     "metadata": {},
     "output_type": "execute_result"
    }
   ],
   "source": [
    "#Code Block 11\n",
    "#Juvenile Felony counts grouped by gender\n",
    "\n",
    "juvenile_felony_counts_by_gender = df_cvpf.groupby('sex')['juv_fel_count'].value_counts()\n",
    "df_juv_fel_gen = pd.DataFrame(juvenile_felony_counts_by_sex).reset_index()\n",
    "\n",
    "df_juv_fel_gen.head()"
   ]
  },
  {
   "cell_type": "code",
   "execution_count": 28,
   "id": "ac8765aa-4968-4d02-998d-5a861bb02ac3",
   "metadata": {
    "execution": {
     "iopub.execute_input": "2025-02-06T04:47:17.172568Z",
     "iopub.status.busy": "2025-02-06T04:47:17.171808Z",
     "iopub.status.idle": "2025-02-06T04:47:17.342367Z",
     "shell.execute_reply": "2025-02-06T04:47:17.341734Z",
     "shell.execute_reply.started": "2025-02-06T04:47:17.172530Z"
    }
   },
   "outputs": [
    {
     "data": {
      "image/png": "[encoded data removed]",
      "text/plain": [
       "<Figure size 1000x500 with 1 Axes>"
      ]
     },
     "metadata": {},
     "output_type": "display_data"
    }
   ],
   "source": [
    "#Code Block 12\n",
    "#Use boxplots to show how juvenile felony counts vary by gender. \n",
    "\n",
    "plt.figure(figsize=(10, 5))\n",
    "sns.boxplot(x=\"sex\", y=\"juv_fel_count\", data=df_cvpf)\n",
    "\n",
    "# Create labels for the plot\n",
    "plt.title(\"Juvenile Felony Counts by Gender\")\n",
    "plt.xlabel(\"Gender\")\n",
    "plt.ylabel(\"Juvenile Felony Count\")\n",
    "\n",
    "# Show the plot\n",
    "plt.show()"
   ]
  },
  {
   "cell_type": "code",
   "execution_count": null,
   "id": "aeedd834-4bc8-45b5-8981-9cb6cb09bddc",
   "metadata": {},
   "outputs": [],
   "source": []
  }
 ],
 "metadata": {
  "kernelspec": {
   "display_name": "anaconda-2024.02-py310",
   "language": "python",
   "name": "conda-env-anaconda-2024.02-py310-py"
  },
  "language_info": {
   "codemirror_mode": {
    "name": "ipython",
    "version": 3
   },
   "file_extension": ".py",
   "mimetype": "text/x-python",
   "name": "python",
   "nbconvert_exporter": "python",
   "pygments_lexer": "ipython3",
   "version": "3.10.14"
  }
 },
 "nbformat": 4,
 "nbformat_minor": 5
}
