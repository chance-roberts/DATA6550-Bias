{
 "cells": [
  {
   "cell_type": "markdown",
   "id": "4830401d-fc93-4456-a256-3d7e2e7bd881",
   "metadata": {},
   "source": [
    "## Project 1: Exploring Bias In Data-COMPAS"
   ]
  },
  {
   "cell_type": "markdown",
   "id": "a8c2d27e-64d4-43b0-b314-294948a24646",
   "metadata": {},
   "source": [
    "## Project Objective: \n",
    "### Explore COMPAS/Propublica Data for any relationship between Gender and Recidivism Scores\n",
    "\n",
    "- Visualize the gender distribution using count plots.\n",
    "- Calculate the percentage of each gender and check for any disproportionate representation.\n",
    "- Use boxenplots to show how juvenile felony counts vary by gender and look for any outliers.\n",
    "- Explore the data to understand juvenile felony counts based on gender\n",
    "- Calculate rates of violent recidivism based on gender\n",
    "- Visualize and explore the data for additional insights about rates of violent recidivism for gender\n",
    "- Discuss any gender-related trends in the dataset.\n"
   ]
  },
  {
   "cell_type": "markdown",
   "id": "9188a96a-a4e3-407f-8f70-a2c727d75575",
   "metadata": {},
   "source": [
    "## Section 1: Import Libraries"
   ]
  },
  {
   "cell_type": "code",
   "execution_count": 1,
   "id": "52c89eec-a814-4fc8-9075-023b7b20354d",
   "metadata": {
    "execution": {
     "iopub.execute_input": "2025-02-09T02:09:57.568759Z",
     "iopub.status.busy": "2025-02-09T02:09:57.568395Z",
     "iopub.status.idle": "2025-02-09T02:10:01.713346Z",
     "shell.execute_reply": "2025-02-09T02:10:01.712284Z",
     "shell.execute_reply.started": "2025-02-09T02:09:57.568732Z"
    }
   },
   "outputs": [],
   "source": [
    "#Import initial Anaconda Libraries\n",
    "\n",
    "import numpy as np\n",
    "import pandas as pd\n",
    "import matplotlib.pyplot as plt\n",
    "import seaborn as sns\n",
    "\n",
    "plt.style.use(\"seaborn-v0_8\")"
   ]
  },
  {
   "cell_type": "markdown",
   "id": "c2adbfe2-a61e-4537-8fb8-708affe440f1",
   "metadata": {},
   "source": [
    "## Section 2: Import Data\n"
   ]
  },
  {
   "cell_type": "code",
   "execution_count": 3,
   "id": "70653639-b18d-488e-876c-99d1ad86acbd",
   "metadata": {
    "execution": {
     "iopub.execute_input": "2025-02-09T02:10:01.769894Z",
     "iopub.status.busy": "2025-02-09T02:10:01.769346Z",
     "iopub.status.idle": "2025-02-09T02:10:01.990296Z",
     "shell.execute_reply": "2025-02-09T02:10:01.989446Z",
     "shell.execute_reply.started": "2025-02-09T02:10:01.769861Z"
    }
   },
   "outputs": [],
   "source": [
    "# Code Block 02\n",
    "#Import dataset from Kaggle: cox-violent-parsed-filter.csv\n",
    "\n",
    "df_cvpf = pd.read_csv('cox-violent-parsed_filt.csv', index_col = None, header=0)"
   ]
  },
  {
   "cell_type": "code",
   "execution_count": 4,
   "id": "abff5463-5ba0-4fc8-af6c-cdf93b2c9eb8",
   "metadata": {
    "execution": {
     "iopub.execute_input": "2025-02-09T02:10:01.992797Z",
     "iopub.status.busy": "2025-02-09T02:10:01.992464Z",
     "iopub.status.idle": "2025-02-09T02:10:02.034044Z",
     "shell.execute_reply": "2025-02-09T02:10:02.033236Z",
     "shell.execute_reply.started": "2025-02-09T02:10:01.992769Z"
    }
   },
   "outputs": [
    {
     "name": "stdout",
     "output_type": "stream",
     "text": [
      "<class 'pandas.core.frame.DataFrame'>\n",
      "RangeIndex: 18316 entries, 0 to 18315\n",
      "Data columns (total 40 columns):\n",
      " #   Column                   Non-Null Count  Dtype  \n",
      "---  ------                   --------------  -----  \n",
      " 0   id                       11001 non-null  float64\n",
      " 1   name                     18316 non-null  object \n",
      " 2   first                    18316 non-null  object \n",
      " 3   last                     18316 non-null  object \n",
      " 4   sex                      18316 non-null  object \n",
      " 5   dob                      18316 non-null  object \n",
      " 6   age                      18316 non-null  int64  \n",
      " 7   age_cat                  18316 non-null  object \n",
      " 8   race                     18316 non-null  object \n",
      " 9   juv_fel_count            18316 non-null  int64  \n",
      " 10  decile_score             18316 non-null  int64  \n",
      " 11  juv_misd_count           18316 non-null  int64  \n",
      " 12  juv_other_count          18316 non-null  int64  \n",
      " 13  priors_count             18316 non-null  int64  \n",
      " 14  days_b_screening_arrest  17019 non-null  float64\n",
      " 15  c_jail_in                17019 non-null  object \n",
      " 16  c_jail_out               17019 non-null  object \n",
      " 17  c_days_from_compas       17449 non-null  float64\n",
      " 18  c_charge_degree          17449 non-null  object \n",
      " 19  c_charge_desc            17435 non-null  object \n",
      " 20  is_recid                 18316 non-null  int64  \n",
      " 21  r_charge_degree          8417 non-null   object \n",
      " 22  r_days_from_arrest       6359 non-null   float64\n",
      " 23  r_offense_date           8417 non-null   object \n",
      " 24  r_charge_desc            8277 non-null   object \n",
      " 25  r_jail_in                6359 non-null   object \n",
      " 26  violent_recid            0 non-null      float64\n",
      " 27  is_violent_recid         18316 non-null  int64  \n",
      " 28  vr_charge_degree         1339 non-null   object \n",
      " 29  vr_offense_date          1339 non-null   object \n",
      " 30  vr_charge_desc           1339 non-null   object \n",
      " 31  type_of_assessment       18316 non-null  object \n",
      " 32  decile_score.1           18316 non-null  int64  \n",
      " 33  score_text               18293 non-null  object \n",
      " 34  screening_date           18316 non-null  object \n",
      " 35  v_type_of_assessment     18316 non-null  object \n",
      " 36  v_decile_score           18316 non-null  int64  \n",
      " 37  v_score_text             18310 non-null  object \n",
      " 38  priors_count.1           18316 non-null  int64  \n",
      " 39  event                    18316 non-null  int64  \n",
      "dtypes: float64(5), int64(12), object(23)\n",
      "memory usage: 5.6+ MB\n"
     ]
    }
   ],
   "source": [
    "#Code Block 03\n",
    "#View data info\n",
    "\n",
    "df_cvpf.info(verbose=True)"
   ]
  },
  {
   "cell_type": "code",
   "execution_count": 6,
   "id": "e32c1d4a-c89f-4fb3-a565-103fc1766b10",
   "metadata": {
    "execution": {
     "iopub.execute_input": "2025-02-09T02:10:02.059585Z",
     "iopub.status.busy": "2025-02-09T02:10:02.059219Z",
     "iopub.status.idle": "2025-02-09T02:10:02.102714Z",
     "shell.execute_reply": "2025-02-09T02:10:02.101993Z",
     "shell.execute_reply.started": "2025-02-09T02:10:02.059563Z"
    }
   },
   "outputs": [
    {
     "data": {
      "text/html": [
       "<div>\n",
       "<style scoped>\n",
       "    .dataframe tbody tr th:only-of-type {\n",
       "        vertical-align: middle;\n",
       "    }\n",
       "\n",
       "    .dataframe tbody tr th {\n",
       "        vertical-align: top;\n",
       "    }\n",
       "\n",
       "    .dataframe thead th {\n",
       "        text-align: right;\n",
       "    }\n",
       "</style>\n",
       "<table border=\"1\" class=\"dataframe\">\n",
       "  <thead>\n",
       "    <tr style=\"text-align: right;\">\n",
       "      <th></th>\n",
       "      <th>id</th>\n",
       "      <th>name</th>\n",
       "      <th>first</th>\n",
       "      <th>last</th>\n",
       "      <th>sex</th>\n",
       "      <th>dob</th>\n",
       "      <th>age</th>\n",
       "      <th>age_cat</th>\n",
       "      <th>race</th>\n",
       "      <th>juv_fel_count</th>\n",
       "      <th>...</th>\n",
       "      <th>vr_charge_desc</th>\n",
       "      <th>type_of_assessment</th>\n",
       "      <th>decile_score.1</th>\n",
       "      <th>score_text</th>\n",
       "      <th>screening_date</th>\n",
       "      <th>v_type_of_assessment</th>\n",
       "      <th>v_decile_score</th>\n",
       "      <th>v_score_text</th>\n",
       "      <th>priors_count.1</th>\n",
       "      <th>event</th>\n",
       "    </tr>\n",
       "  </thead>\n",
       "  <tbody>\n",
       "    <tr>\n",
       "      <th>0</th>\n",
       "      <td>1.0</td>\n",
       "      <td>miguel hernandez</td>\n",
       "      <td>miguel</td>\n",
       "      <td>hernandez</td>\n",
       "      <td>Male</td>\n",
       "      <td>18/04/1947</td>\n",
       "      <td>69</td>\n",
       "      <td>Greater than 45</td>\n",
       "      <td>Other</td>\n",
       "      <td>0</td>\n",
       "      <td>...</td>\n",
       "      <td>NaN</td>\n",
       "      <td>Risk of Recidivism</td>\n",
       "      <td>1</td>\n",
       "      <td>Low</td>\n",
       "      <td>14/08/2013</td>\n",
       "      <td>Risk of Violence</td>\n",
       "      <td>1</td>\n",
       "      <td>Low</td>\n",
       "      <td>0</td>\n",
       "      <td>0</td>\n",
       "    </tr>\n",
       "    <tr>\n",
       "      <th>1</th>\n",
       "      <td>2.0</td>\n",
       "      <td>miguel hernandez</td>\n",
       "      <td>miguel</td>\n",
       "      <td>hernandez</td>\n",
       "      <td>Male</td>\n",
       "      <td>18/04/1947</td>\n",
       "      <td>69</td>\n",
       "      <td>Greater than 45</td>\n",
       "      <td>Other</td>\n",
       "      <td>0</td>\n",
       "      <td>...</td>\n",
       "      <td>NaN</td>\n",
       "      <td>Risk of Recidivism</td>\n",
       "      <td>1</td>\n",
       "      <td>Low</td>\n",
       "      <td>14/08/2013</td>\n",
       "      <td>Risk of Violence</td>\n",
       "      <td>1</td>\n",
       "      <td>Low</td>\n",
       "      <td>0</td>\n",
       "      <td>0</td>\n",
       "    </tr>\n",
       "    <tr>\n",
       "      <th>2</th>\n",
       "      <td>3.0</td>\n",
       "      <td>michael ryan</td>\n",
       "      <td>michael</td>\n",
       "      <td>ryan</td>\n",
       "      <td>Male</td>\n",
       "      <td>06/02/1985</td>\n",
       "      <td>31</td>\n",
       "      <td>25 - 45</td>\n",
       "      <td>Caucasian</td>\n",
       "      <td>0</td>\n",
       "      <td>...</td>\n",
       "      <td>NaN</td>\n",
       "      <td>Risk of Recidivism</td>\n",
       "      <td>5</td>\n",
       "      <td>Medium</td>\n",
       "      <td>31/12/2014</td>\n",
       "      <td>Risk of Violence</td>\n",
       "      <td>2</td>\n",
       "      <td>Low</td>\n",
       "      <td>0</td>\n",
       "      <td>0</td>\n",
       "    </tr>\n",
       "    <tr>\n",
       "      <th>3</th>\n",
       "      <td>4.0</td>\n",
       "      <td>kevon dixon</td>\n",
       "      <td>kevon</td>\n",
       "      <td>dixon</td>\n",
       "      <td>Male</td>\n",
       "      <td>22/01/1982</td>\n",
       "      <td>34</td>\n",
       "      <td>25 - 45</td>\n",
       "      <td>African-American</td>\n",
       "      <td>0</td>\n",
       "      <td>...</td>\n",
       "      <td>Felony Battery (Dom Strang)</td>\n",
       "      <td>Risk of Recidivism</td>\n",
       "      <td>3</td>\n",
       "      <td>Low</td>\n",
       "      <td>27/01/2013</td>\n",
       "      <td>Risk of Violence</td>\n",
       "      <td>1</td>\n",
       "      <td>Low</td>\n",
       "      <td>0</td>\n",
       "      <td>1</td>\n",
       "    </tr>\n",
       "    <tr>\n",
       "      <th>4</th>\n",
       "      <td>5.0</td>\n",
       "      <td>ed philo</td>\n",
       "      <td>ed</td>\n",
       "      <td>philo</td>\n",
       "      <td>Male</td>\n",
       "      <td>14/05/1991</td>\n",
       "      <td>24</td>\n",
       "      <td>Less than 25</td>\n",
       "      <td>African-American</td>\n",
       "      <td>0</td>\n",
       "      <td>...</td>\n",
       "      <td>NaN</td>\n",
       "      <td>Risk of Recidivism</td>\n",
       "      <td>4</td>\n",
       "      <td>Low</td>\n",
       "      <td>14/04/2013</td>\n",
       "      <td>Risk of Violence</td>\n",
       "      <td>3</td>\n",
       "      <td>Low</td>\n",
       "      <td>4</td>\n",
       "      <td>0</td>\n",
       "    </tr>\n",
       "  </tbody>\n",
       "</table>\n",
       "<p>5 rows × 40 columns</p>\n",
       "</div>"
      ],
      "text/plain": [
       "    id              name    first       last   sex         dob  age  \\\n",
       "0  1.0  miguel hernandez   miguel  hernandez  Male  18/04/1947   69   \n",
       "1  2.0  miguel hernandez   miguel  hernandez  Male  18/04/1947   69   \n",
       "2  3.0      michael ryan  michael       ryan  Male  06/02/1985   31   \n",
       "3  4.0       kevon dixon    kevon      dixon  Male  22/01/1982   34   \n",
       "4  5.0          ed philo       ed      philo  Male  14/05/1991   24   \n",
       "\n",
       "           age_cat              race  juv_fel_count  ...  \\\n",
       "0  Greater than 45             Other              0  ...   \n",
       "1  Greater than 45             Other              0  ...   \n",
       "2          25 - 45         Caucasian              0  ...   \n",
       "3          25 - 45  African-American              0  ...   \n",
       "4     Less than 25  African-American              0  ...   \n",
       "\n",
       "                vr_charge_desc  type_of_assessment  decile_score.1  \\\n",
       "0                          NaN  Risk of Recidivism               1   \n",
       "1                          NaN  Risk of Recidivism               1   \n",
       "2                          NaN  Risk of Recidivism               5   \n",
       "3  Felony Battery (Dom Strang)  Risk of Recidivism               3   \n",
       "4                          NaN  Risk of Recidivism               4   \n",
       "\n",
       "   score_text  screening_date v_type_of_assessment v_decile_score  \\\n",
       "0         Low      14/08/2013     Risk of Violence              1   \n",
       "1         Low      14/08/2013     Risk of Violence              1   \n",
       "2      Medium      31/12/2014     Risk of Violence              2   \n",
       "3         Low      27/01/2013     Risk of Violence              1   \n",
       "4         Low      14/04/2013     Risk of Violence              3   \n",
       "\n",
       "   v_score_text priors_count.1 event  \n",
       "0           Low              0     0  \n",
       "1           Low              0     0  \n",
       "2           Low              0     0  \n",
       "3           Low              0     1  \n",
       "4           Low              4     0  \n",
       "\n",
       "[5 rows x 40 columns]"
      ]
     },
     "execution_count": 6,
     "metadata": {},
     "output_type": "execute_result"
    }
   ],
   "source": [
    "#Code Block 04\n",
    "df_cvpf.head()"
   ]
  },
  {
   "cell_type": "code",
   "execution_count": 10,
   "id": "6e2d44d2-b6fd-4f8e-ae55-f8231a616df4",
   "metadata": {
    "execution": {
     "iopub.execute_input": "2025-02-09T02:10:09.298926Z",
     "iopub.status.busy": "2025-02-09T02:10:09.298192Z",
     "iopub.status.idle": "2025-02-09T02:10:09.321051Z",
     "shell.execute_reply": "2025-02-09T02:10:09.320321Z",
     "shell.execute_reply.started": "2025-02-09T02:10:09.298901Z"
    }
   },
   "outputs": [
    {
     "name": "stdout",
     "output_type": "stream",
     "text": [
      "<class 'pandas.core.frame.DataFrame'>\n",
      "Index: 10855 entries, 0 to 18314\n",
      "Data columns (total 40 columns):\n",
      " #   Column                   Non-Null Count  Dtype  \n",
      "---  ------                   --------------  -----  \n",
      " 0   id                       6560 non-null   float64\n",
      " 1   name                     10855 non-null  object \n",
      " 2   first                    10855 non-null  object \n",
      " 3   last                     10855 non-null  object \n",
      " 4   sex                      10855 non-null  object \n",
      " 5   dob                      10855 non-null  object \n",
      " 6   age                      10855 non-null  int64  \n",
      " 7   age_cat                  10855 non-null  object \n",
      " 8   race                     10855 non-null  object \n",
      " 9   juv_fel_count            10855 non-null  int64  \n",
      " 10  decile_score             10855 non-null  int64  \n",
      " 11  juv_misd_count           10855 non-null  int64  \n",
      " 12  juv_other_count          10855 non-null  int64  \n",
      " 13  priors_count             10855 non-null  int64  \n",
      " 14  days_b_screening_arrest  9781 non-null   float64\n",
      " 15  c_jail_in                9781 non-null   object \n",
      " 16  c_jail_out               9781 non-null   object \n",
      " 17  c_days_from_compas       10185 non-null  float64\n",
      " 18  c_charge_degree          10185 non-null  object \n",
      " 19  c_charge_desc            10178 non-null  object \n",
      " 20  is_recid                 10855 non-null  int64  \n",
      " 21  r_charge_degree          3425 non-null   object \n",
      " 22  r_days_from_arrest       2281 non-null   float64\n",
      " 23  r_offense_date           3425 non-null   object \n",
      " 24  r_charge_desc            3368 non-null   object \n",
      " 25  r_jail_in                2281 non-null   object \n",
      " 26  violent_recid            0 non-null      float64\n",
      " 27  is_violent_recid         10855 non-null  int64  \n",
      " 28  vr_charge_degree         809 non-null    object \n",
      " 29  vr_offense_date          809 non-null    object \n",
      " 30  vr_charge_desc           809 non-null    object \n",
      " 31  type_of_assessment       10855 non-null  object \n",
      " 32  decile_score.1           10855 non-null  int64  \n",
      " 33  score_text               10841 non-null  object \n",
      " 34  screening_date           10855 non-null  object \n",
      " 35  v_type_of_assessment     10855 non-null  object \n",
      " 36  v_decile_score           10855 non-null  int64  \n",
      " 37  v_score_text             10850 non-null  object \n",
      " 38  priors_count.1           10855 non-null  int64  \n",
      " 39  event                    10855 non-null  int64  \n",
      "dtypes: float64(5), int64(12), object(23)\n",
      "memory usage: 3.4+ MB\n"
     ]
    }
   ],
   "source": [
    "#Code Block 05\n",
    "#Drop duplicate names\n",
    "\n",
    "df_cvpf=df_cvpf.drop_duplicates(subset=['name'])\n",
    "df_cvpf.info()"
   ]
  },
  {
   "cell_type": "code",
   "execution_count": 12,
   "id": "5e1cea2f-8fd0-44c7-a3c7-0753c46e8763",
   "metadata": {
    "execution": {
     "iopub.execute_input": "2025-02-09T02:10:10.149622Z",
     "iopub.status.busy": "2025-02-09T02:10:10.149267Z",
     "iopub.status.idle": "2025-02-09T02:10:10.205343Z",
     "shell.execute_reply": "2025-02-09T02:10:10.204239Z",
     "shell.execute_reply.started": "2025-02-09T02:10:10.149599Z"
    }
   },
   "outputs": [
    {
     "name": "stdout",
     "output_type": "stream",
     "text": [
      "<class 'pandas.core.frame.DataFrame'>\n",
      "Index: 10855 entries, 0 to 18314\n",
      "Data columns (total 40 columns):\n",
      " #   Column                   Non-Null Count  Dtype  \n",
      "---  ------                   --------------  -----  \n",
      " 0   id                       10855 non-null  float64\n",
      " 1   name                     10855 non-null  object \n",
      " 2   first                    10855 non-null  object \n",
      " 3   last                     10855 non-null  object \n",
      " 4   sex                      10855 non-null  object \n",
      " 5   dob                      10855 non-null  object \n",
      " 6   age                      10855 non-null  int64  \n",
      " 7   age_cat                  10855 non-null  object \n",
      " 8   race                     10855 non-null  object \n",
      " 9   juv_fel_count            10855 non-null  int64  \n",
      " 10  decile_score             10855 non-null  int64  \n",
      " 11  juv_misd_count           10855 non-null  int64  \n",
      " 12  juv_other_count          10855 non-null  int64  \n",
      " 13  priors_count             10855 non-null  int64  \n",
      " 14  days_b_screening_arrest  10855 non-null  float64\n",
      " 15  c_jail_in                10855 non-null  object \n",
      " 16  c_jail_out               10855 non-null  object \n",
      " 17  c_days_from_compas       10855 non-null  float64\n",
      " 18  c_charge_degree          10855 non-null  object \n",
      " 19  c_charge_desc            10855 non-null  object \n",
      " 20  is_recid                 10855 non-null  int64  \n",
      " 21  r_charge_degree          10855 non-null  object \n",
      " 22  r_days_from_arrest       10855 non-null  float64\n",
      " 23  r_offense_date           10855 non-null  object \n",
      " 24  r_charge_desc            10855 non-null  object \n",
      " 25  r_jail_in                10855 non-null  object \n",
      " 26  violent_recid            10855 non-null  float64\n",
      " 27  is_violent_recid         10855 non-null  int64  \n",
      " 28  vr_charge_degree         10855 non-null  object \n",
      " 29  vr_offense_date          10855 non-null  object \n",
      " 30  vr_charge_desc           10855 non-null  object \n",
      " 31  type_of_assessment       10855 non-null  object \n",
      " 32  decile_score.1           10855 non-null  int64  \n",
      " 33  score_text               10855 non-null  object \n",
      " 34  screening_date           10855 non-null  object \n",
      " 35  v_type_of_assessment     10855 non-null  object \n",
      " 36  v_decile_score           10855 non-null  int64  \n",
      " 37  v_score_text             10855 non-null  object \n",
      " 38  priors_count.1           10855 non-null  int64  \n",
      " 39  event                    10855 non-null  int64  \n",
      "dtypes: float64(5), int64(12), object(23)\n",
      "memory usage: 3.4+ MB\n"
     ]
    }
   ],
   "source": [
    "#Code Block 06\n",
    "# Fill NaNs with 0\n",
    "df_cvpf_clean=df_cvpf.fillna(0)\n",
    "df_cvpf_clean.info()"
   ]
  },
  {
   "cell_type": "markdown",
   "id": "4d6e845b-2491-4c99-b33a-0cd48fe90b95",
   "metadata": {},
   "source": [
    "## Section 1: Gender Representation"
   ]
  },
  {
   "cell_type": "code",
   "execution_count": 14,
   "id": "1a97a5a4-c652-41aa-8832-e6ad8611fa85",
   "metadata": {
    "execution": {
     "iopub.execute_input": "2025-02-09T02:10:44.138583Z",
     "iopub.status.busy": "2025-02-09T02:10:44.138223Z",
     "iopub.status.idle": "2025-02-09T02:10:44.149215Z",
     "shell.execute_reply": "2025-02-09T02:10:44.148625Z",
     "shell.execute_reply.started": "2025-02-09T02:10:44.138561Z"
    }
   },
   "outputs": [
    {
     "data": {
      "text/html": [
       "<div>\n",
       "<style scoped>\n",
       "    .dataframe tbody tr th:only-of-type {\n",
       "        vertical-align: middle;\n",
       "    }\n",
       "\n",
       "    .dataframe tbody tr th {\n",
       "        vertical-align: top;\n",
       "    }\n",
       "\n",
       "    .dataframe thead th {\n",
       "        text-align: right;\n",
       "    }\n",
       "</style>\n",
       "<table border=\"1\" class=\"dataframe\">\n",
       "  <thead>\n",
       "    <tr style=\"text-align: right;\">\n",
       "      <th></th>\n",
       "      <th>sex</th>\n",
       "      <th>Count</th>\n",
       "      <th>Percentage</th>\n",
       "    </tr>\n",
       "  </thead>\n",
       "  <tbody>\n",
       "    <tr>\n",
       "      <th>0</th>\n",
       "      <td>Male</td>\n",
       "      <td>8604</td>\n",
       "      <td>79.263012</td>\n",
       "    </tr>\n",
       "    <tr>\n",
       "      <th>1</th>\n",
       "      <td>Female</td>\n",
       "      <td>2251</td>\n",
       "      <td>20.736988</td>\n",
       "    </tr>\n",
       "  </tbody>\n",
       "</table>\n",
       "</div>"
      ],
      "text/plain": [
       "      sex  Count  Percentage\n",
       "0    Male   8604   79.263012\n",
       "1  Female   2251   20.736988"
      ]
     },
     "execution_count": 14,
     "metadata": {},
     "output_type": "execute_result"
    }
   ],
   "source": [
    "#Code Block 07\n",
    "#Used AI Assistant\n",
    "#Calculate the counts and percentage of each gender in the dataset\n",
    "\n",
    "#Gender counts\n",
    "gender_counts = df_cvpf['sex'].value_counts()\n",
    "\n",
    "#Gender percentages\n",
    "gender_percentages = (gender_counts / gender_counts.sum()) * 100\n",
    "\n",
    "# Combine counts and percentages into a DataFrame\n",
    "df_gen_dist = pd.DataFrame({ \"Count\": gender_counts,\"Percentage\": gender_percentages})\n",
    "\n",
    "df_gen_dist = df_gen_dist.reset_index()\n",
    "df_gen_dist.head()"
   ]
  },
  {
   "cell_type": "code",
   "execution_count": 16,
   "id": "a203b80e-8ac8-4a88-8e31-b32b53e28f55",
   "metadata": {
    "execution": {
     "iopub.execute_input": "2025-02-09T02:10:45.598756Z",
     "iopub.status.busy": "2025-02-09T02:10:45.598148Z",
     "iopub.status.idle": "2025-02-09T02:10:45.776246Z",
     "shell.execute_reply": "2025-02-09T02:10:45.775558Z",
     "shell.execute_reply.started": "2025-02-09T02:10:45.598731Z"
    }
   },
   "outputs": [
    {
     "data": {
      "image/png": "[encoded data removed]",
      "text/plain": [
       "<Figure size 1000x500 with 1 Axes>"
      ]
     },
     "metadata": {},
     "output_type": "display_data"
    }
   ],
   "source": [
    "#Code Block 08\n",
    "#Create count plot for gender distribution within the dataset\n",
    "\n",
    "plt.figure(figsize=(10, 5)) \n",
    "ax = sns.countplot(x= 'sex', data=df_cvpf_clean, palette = 'colorblind')\n",
    "# Add labels and title\n",
    "\n",
    "plt.xlabel(\"Gender\")  # Label for the x-axis\n",
    "plt.ylabel(\"Count\")   # Label for the y-axis\n",
    "plt.title(\"Gender Distribution\")  # Title of the plot\n",
    "\n",
    "# Display the plot\n",
    "plt.show()"
   ]
  },
  {
   "cell_type": "markdown",
   "id": "dc48521d-e65d-4289-8042-a012431bb2ba",
   "metadata": {},
   "source": [
    "## Summary of Section 1: Gender Representation\n",
    "\n",
    "- Gender Representation in the data set:\n",
    "  - Male: 8604 and 79.3%\n",
    "  - Female: 2251 and 20.7%\n",
    " \n",
    "- This baseline disproportionality sets the tone for what is to be discovered throughout the data set\n",
    "  - All things being equal will not truly be equal from a gender standpoint with reegards to risk assesment of recidivism due to the inequality seen from the start.\n"
   ]
  },
  {
   "cell_type": "markdown",
   "id": "024fb780-a51f-4b50-8ce8-05c48a361ded",
   "metadata": {},
   "source": [
    "## Section 2: Juvenile Felony Counts by Gender"
   ]
  },
  {
   "cell_type": "code",
   "execution_count": 20,
   "id": "77dd37a6-d985-43c6-8d53-cb940143169a",
   "metadata": {
    "execution": {
     "iopub.execute_input": "2025-02-09T02:11:24.724586Z",
     "iopub.status.busy": "2025-02-09T02:11:24.723695Z",
     "iopub.status.idle": "2025-02-09T02:11:24.738457Z",
     "shell.execute_reply": "2025-02-09T02:11:24.737710Z",
     "shell.execute_reply.started": "2025-02-09T02:11:24.724549Z"
    }
   },
   "outputs": [
    {
     "data": {
      "text/html": [
       "<div>\n",
       "<style scoped>\n",
       "    .dataframe tbody tr th:only-of-type {\n",
       "        vertical-align: middle;\n",
       "    }\n",
       "\n",
       "    .dataframe tbody tr th {\n",
       "        vertical-align: top;\n",
       "    }\n",
       "\n",
       "    .dataframe thead th {\n",
       "        text-align: right;\n",
       "    }\n",
       "</style>\n",
       "<table border=\"1\" class=\"dataframe\">\n",
       "  <thead>\n",
       "    <tr style=\"text-align: right;\">\n",
       "      <th></th>\n",
       "      <th>sex</th>\n",
       "      <th>juv_fel_count</th>\n",
       "      <th>count</th>\n",
       "    </tr>\n",
       "  </thead>\n",
       "  <tbody>\n",
       "    <tr>\n",
       "      <th>4</th>\n",
       "      <td>Male</td>\n",
       "      <td>0</td>\n",
       "      <td>8258</td>\n",
       "    </tr>\n",
       "    <tr>\n",
       "      <th>5</th>\n",
       "      <td>Male</td>\n",
       "      <td>1</td>\n",
       "      <td>225</td>\n",
       "    </tr>\n",
       "    <tr>\n",
       "      <th>6</th>\n",
       "      <td>Male</td>\n",
       "      <td>2</td>\n",
       "      <td>63</td>\n",
       "    </tr>\n",
       "    <tr>\n",
       "      <th>7</th>\n",
       "      <td>Male</td>\n",
       "      <td>3</td>\n",
       "      <td>26</td>\n",
       "    </tr>\n",
       "    <tr>\n",
       "      <th>8</th>\n",
       "      <td>Male</td>\n",
       "      <td>4</td>\n",
       "      <td>16</td>\n",
       "    </tr>\n",
       "    <tr>\n",
       "      <th>9</th>\n",
       "      <td>Male</td>\n",
       "      <td>5</td>\n",
       "      <td>7</td>\n",
       "    </tr>\n",
       "    <tr>\n",
       "      <th>10</th>\n",
       "      <td>Male</td>\n",
       "      <td>6</td>\n",
       "      <td>2</td>\n",
       "    </tr>\n",
       "    <tr>\n",
       "      <th>11</th>\n",
       "      <td>Male</td>\n",
       "      <td>8</td>\n",
       "      <td>2</td>\n",
       "    </tr>\n",
       "    <tr>\n",
       "      <th>12</th>\n",
       "      <td>Male</td>\n",
       "      <td>10</td>\n",
       "      <td>2</td>\n",
       "    </tr>\n",
       "    <tr>\n",
       "      <th>13</th>\n",
       "      <td>Male</td>\n",
       "      <td>9</td>\n",
       "      <td>1</td>\n",
       "    </tr>\n",
       "    <tr>\n",
       "      <th>14</th>\n",
       "      <td>Male</td>\n",
       "      <td>13</td>\n",
       "      <td>1</td>\n",
       "    </tr>\n",
       "    <tr>\n",
       "      <th>15</th>\n",
       "      <td>Male</td>\n",
       "      <td>20</td>\n",
       "      <td>1</td>\n",
       "    </tr>\n",
       "    <tr>\n",
       "      <th>0</th>\n",
       "      <td>Female</td>\n",
       "      <td>0</td>\n",
       "      <td>2228</td>\n",
       "    </tr>\n",
       "    <tr>\n",
       "      <th>1</th>\n",
       "      <td>Female</td>\n",
       "      <td>1</td>\n",
       "      <td>18</td>\n",
       "    </tr>\n",
       "    <tr>\n",
       "      <th>2</th>\n",
       "      <td>Female</td>\n",
       "      <td>2</td>\n",
       "      <td>3</td>\n",
       "    </tr>\n",
       "    <tr>\n",
       "      <th>3</th>\n",
       "      <td>Female</td>\n",
       "      <td>3</td>\n",
       "      <td>2</td>\n",
       "    </tr>\n",
       "  </tbody>\n",
       "</table>\n",
       "</div>"
      ],
      "text/plain": [
       "       sex  juv_fel_count  count\n",
       "4     Male              0   8258\n",
       "5     Male              1    225\n",
       "6     Male              2     63\n",
       "7     Male              3     26\n",
       "8     Male              4     16\n",
       "9     Male              5      7\n",
       "10    Male              6      2\n",
       "11    Male              8      2\n",
       "12    Male             10      2\n",
       "13    Male              9      1\n",
       "14    Male             13      1\n",
       "15    Male             20      1\n",
       "0   Female              0   2228\n",
       "1   Female              1     18\n",
       "2   Female              2      3\n",
       "3   Female              3      2"
      ]
     },
     "execution_count": 20,
     "metadata": {},
     "output_type": "execute_result"
    }
   ],
   "source": [
    "#Code Block 09\n",
    "#Juvenile Felony Value_Counts grouped and sorted  by gender \n",
    "\n",
    "juv_fel_gen = df_cvpf.groupby('sex')['juv_fel_count'].value_counts()\n",
    "df_juv_fel_gen = pd.DataFrame(juv_fel_gen).reset_index()\n",
    "df_juv_fel_gen = df_juv_fel_gen.sort_values('sex', ascending = False)\n",
    "df_juv_fel_gen.head(20)"
   ]
  },
  {
   "cell_type": "code",
   "execution_count": 22,
   "id": "837440c0-0a0c-4374-9e02-6aac753b3736",
   "metadata": {
    "execution": {
     "iopub.execute_input": "2025-02-09T02:11:25.635463Z",
     "iopub.status.busy": "2025-02-09T02:11:25.635093Z",
     "iopub.status.idle": "2025-02-09T02:11:25.661030Z",
     "shell.execute_reply": "2025-02-09T02:11:25.660403Z",
     "shell.execute_reply.started": "2025-02-09T02:11:25.635441Z"
    }
   },
   "outputs": [
    {
     "data": {
      "text/html": [
       "<div>\n",
       "<style scoped>\n",
       "    .dataframe tbody tr th:only-of-type {\n",
       "        vertical-align: middle;\n",
       "    }\n",
       "\n",
       "    .dataframe tbody tr th {\n",
       "        vertical-align: top;\n",
       "    }\n",
       "\n",
       "    .dataframe thead th {\n",
       "        text-align: right;\n",
       "    }\n",
       "</style>\n",
       "<table border=\"1\" class=\"dataframe\">\n",
       "  <thead>\n",
       "    <tr style=\"text-align: right;\">\n",
       "      <th></th>\n",
       "      <th>sex</th>\n",
       "      <th>count</th>\n",
       "      <th>mean</th>\n",
       "      <th>std</th>\n",
       "      <th>min</th>\n",
       "      <th>25%</th>\n",
       "      <th>50%</th>\n",
       "      <th>75%</th>\n",
       "      <th>max</th>\n",
       "    </tr>\n",
       "  </thead>\n",
       "  <tbody>\n",
       "    <tr>\n",
       "      <th>0</th>\n",
       "      <td>Female</td>\n",
       "      <td>2251.0</td>\n",
       "      <td>0.013327</td>\n",
       "      <td>0.145450</td>\n",
       "      <td>0.0</td>\n",
       "      <td>0.0</td>\n",
       "      <td>0.0</td>\n",
       "      <td>0.0</td>\n",
       "      <td>3.0</td>\n",
       "    </tr>\n",
       "    <tr>\n",
       "      <th>1</th>\n",
       "      <td>Male</td>\n",
       "      <td>8604.0</td>\n",
       "      <td>0.071827</td>\n",
       "      <td>0.499635</td>\n",
       "      <td>0.0</td>\n",
       "      <td>0.0</td>\n",
       "      <td>0.0</td>\n",
       "      <td>0.0</td>\n",
       "      <td>20.0</td>\n",
       "    </tr>\n",
       "  </tbody>\n",
       "</table>\n",
       "</div>"
      ],
      "text/plain": [
       "      sex   count      mean       std  min  25%  50%  75%   max\n",
       "0  Female  2251.0  0.013327  0.145450  0.0  0.0  0.0  0.0   3.0\n",
       "1    Male  8604.0  0.071827  0.499635  0.0  0.0  0.0  0.0  20.0"
      ]
     },
     "execution_count": 22,
     "metadata": {},
     "output_type": "execute_result"
    }
   ],
   "source": [
    "#Code Block 10 -Used Notebook AI Assistant\n",
    "#Group the DataFrame by 'sex' and get descriptive statistics for 'juv_fel_count' for all people in the dataset\n",
    "description_by_sex = df_cvpf_clean.groupby('sex')['juv_fel_count'].describe()\n",
    "\n",
    "df_description_by_sex = pd.DataFrame(description_by_sex).reset_index()\n",
    "df_description_by_sex"
   ]
  },
  {
   "cell_type": "code",
   "execution_count": 24,
   "id": "ac8765aa-4968-4d02-998d-5a861bb02ac3",
   "metadata": {
    "execution": {
     "iopub.execute_input": "2025-02-09T02:11:26.938435Z",
     "iopub.status.busy": "2025-02-09T02:11:26.938081Z",
     "iopub.status.idle": "2025-02-09T02:11:27.102216Z",
     "shell.execute_reply": "2025-02-09T02:11:27.101650Z",
     "shell.execute_reply.started": "2025-02-09T02:11:26.938411Z"
    }
   },
   "outputs": [
    {
     "name": "stderr",
     "output_type": "stream",
     "text": [
      "/opt/conda/envs/anaconda-2024.02-py310/lib/python3.10/site-packages/seaborn/categorical.py:1794: FutureWarning: use_inf_as_na option is deprecated and will be removed in a future version. Convert inf values to NaN before operating instead.\n",
      "  with pd.option_context('mode.use_inf_as_na', True):\n",
      "/opt/conda/envs/anaconda-2024.02-py310/lib/python3.10/site-packages/seaborn/categorical.py:1794: FutureWarning: use_inf_as_na option is deprecated and will be removed in a future version. Convert inf values to NaN before operating instead.\n",
      "  with pd.option_context('mode.use_inf_as_na', True):\n"
     ]
    },
    {
     "data": {
      "image/png": "[encoded data removed]",
      "text/plain": [
       "<Figure size 1000x500 with 1 Axes>"
      ]
     },
     "metadata": {},
     "output_type": "display_data"
    }
   ],
   "source": [
    "#Code Block 11\n",
    "#Use boxennplots to show how juvenile felony counts vary by gender. \n",
    "\n",
    "plt.figure(figsize=(10, 5))\n",
    "sns.boxenplot(x=\"sex\", y=\"juv_fel_count\", data=df_cvpf_clean, palette = 'colorblind')\n",
    "\n",
    "# Create labels for the plot\n",
    "plt.title(\"Juvenile Felony Counts by Gender\")\n",
    "plt.xlabel(\"Gender\")\n",
    "plt.ylabel(\"Juvenile Felony Count\")\n",
    "\n",
    "# Show the plot\n",
    "plt.show()"
   ]
  },
  {
   "cell_type": "code",
   "execution_count": 26,
   "id": "b2bd20a1-82aa-4ecd-a1c5-c651e490ed92",
   "metadata": {
    "execution": {
     "iopub.execute_input": "2025-02-09T02:11:53.840191Z",
     "iopub.status.busy": "2025-02-09T02:11:53.839749Z",
     "iopub.status.idle": "2025-02-09T02:11:53.853506Z",
     "shell.execute_reply": "2025-02-09T02:11:53.852876Z",
     "shell.execute_reply.started": "2025-02-09T02:11:53.840165Z"
    }
   },
   "outputs": [
    {
     "data": {
      "text/html": [
       "<div>\n",
       "<style scoped>\n",
       "    .dataframe tbody tr th:only-of-type {\n",
       "        vertical-align: middle;\n",
       "    }\n",
       "\n",
       "    .dataframe tbody tr th {\n",
       "        vertical-align: top;\n",
       "    }\n",
       "\n",
       "    .dataframe thead th {\n",
       "        text-align: right;\n",
       "    }\n",
       "</style>\n",
       "<table border=\"1\" class=\"dataframe\">\n",
       "  <thead>\n",
       "    <tr style=\"text-align: right;\">\n",
       "      <th></th>\n",
       "      <th>sex</th>\n",
       "      <th>count</th>\n",
       "    </tr>\n",
       "  </thead>\n",
       "  <tbody>\n",
       "    <tr>\n",
       "      <th>1</th>\n",
       "      <td>Male</td>\n",
       "      <td>346</td>\n",
       "    </tr>\n",
       "    <tr>\n",
       "      <th>0</th>\n",
       "      <td>Female</td>\n",
       "      <td>23</td>\n",
       "    </tr>\n",
       "  </tbody>\n",
       "</table>\n",
       "</div>"
      ],
      "text/plain": [
       "      sex  count\n",
       "1    Male    346\n",
       "0  Female     23"
      ]
     },
     "execution_count": 26,
     "metadata": {},
     "output_type": "execute_result"
    }
   ],
   "source": [
    "#Code Block 12 - Used Jupyter AI Assistant for help with the organization of the code\n",
    "# View number of those with at least one juvenile felony count and compare by Gender\n",
    "\n",
    "#Filter the DataFrame for juvenile felony counts greater than 0 and groupby 'sex'\n",
    "filtered_df = df_juv_fel_gen[df_juv_fel_gen['juv_fel_count'] > 0]\n",
    "\n",
    "# Group by 'sex' and sum the 'juv_fel_count'\n",
    "df_filtered_df = pd.DataFrame(filtered_df.groupby('sex')['count'].sum())\n",
    "df_filtered_df= df_filtered_df.reset_index()\n",
    "df_filtered_df= df_filtered_df.sort_values('sex', ascending = False)\n",
    "df_filtered_df.head()"
   ]
  },
  {
   "cell_type": "code",
   "execution_count": 37,
   "id": "5991cf61-d55f-4044-8c8e-5adf9eda41b5",
   "metadata": {
    "execution": {
     "iopub.execute_input": "2025-02-09T02:13:17.469200Z",
     "iopub.status.busy": "2025-02-09T02:13:17.468689Z",
     "iopub.status.idle": "2025-02-09T02:13:17.694883Z",
     "shell.execute_reply": "2025-02-09T02:13:17.693938Z",
     "shell.execute_reply.started": "2025-02-09T02:13:17.469166Z"
    },
    "scrolled": true
   },
   "outputs": [
    {
     "data": {
      "image/png": "[encoded data removed]",
      "text/plain": [
       "<Figure size 800x500 with 1 Axes>"
      ]
     },
     "metadata": {},
     "output_type": "display_data"
    }
   ],
   "source": [
    "#Code Block 13\n",
    "#Creating the bar plot for the count of those with juvenile felony by gender\n",
    "\n",
    "plt.figure(figsize=(8, 5))\n",
    "sns.barplot(x='sex', y='count', data = df_filtered_df, palette = 'colorblind')\n",
    "plt.title('Adults with Juvenile Felonies by Gender')\n",
    "plt.xlabel('Gender')\n",
    "plt.ylabel('count')\n",
    "\n",
    "plt.show()\n"
   ]
  },
  {
   "cell_type": "markdown",
   "id": "33ad7bf1-de1f-4c46-bc94-abadf174463d",
   "metadata": {},
   "source": [
    "## Summary Section 2: Adults with Juvenile Felony Charges by Gender\n",
    "- Overall, 7.2% of males and 1.3% of all females in the data set had a juvenile felony charge\n",
    "- While the boxen plot doesn't show much variation within the median quartiles, it highlights the outliers for both genders and additional disproportionality: \n",
    "  - For males, we can see that there are several dots outside within the upper quartile and those numbers have a larger spread, extending to 20 (i.e. at least one male in this set had 20 juvenile felony counts)\n",
    "  - For females, we can see a few outliers with a small spread into the upper quartile extending only to 3\n",
    "- The actual value counts for number of juvenile felony counts be gender is also listed in the dataframe above the descriptive statistics above the graph for reference\n",
    "- The total counts for those with at least one juvenile felony are:\n",
    "  - Male-346\n",
    "  - Female- 23"
   ]
  },
  {
   "cell_type": "markdown",
   "id": "2828bfb5-2fc7-440b-8546-7e194a41b328",
   "metadata": {
    "execution": {
     "iopub.execute_input": "2025-02-09T01:59:00.187494Z",
     "iopub.status.busy": "2025-02-09T01:59:00.186874Z",
     "iopub.status.idle": "2025-02-09T01:59:00.190746Z",
     "shell.execute_reply": "2025-02-09T01:59:00.189957Z",
     "shell.execute_reply.started": "2025-02-09T01:59:00.187463Z"
    }
   },
   "source": [
    "## Section 3: Recidivism by Gender and False Assessment Scores"
   ]
  },
  {
   "cell_type": "code",
   "execution_count": 47,
   "id": "35d06986-4983-4823-afed-e4a5c7f0b0e5",
   "metadata": {
    "execution": {
     "iopub.execute_input": "2025-02-09T02:15:43.178609Z",
     "iopub.status.busy": "2025-02-09T02:15:43.178242Z",
     "iopub.status.idle": "2025-02-09T02:15:43.196651Z",
     "shell.execute_reply": "2025-02-09T02:15:43.196003Z",
     "shell.execute_reply.started": "2025-02-09T02:15:43.178586Z"
    }
   },
   "outputs": [
    {
     "data": {
      "text/html": [
       "<div>\n",
       "<style scoped>\n",
       "    .dataframe tbody tr th:only-of-type {\n",
       "        vertical-align: middle;\n",
       "    }\n",
       "\n",
       "    .dataframe tbody tr th {\n",
       "        vertical-align: top;\n",
       "    }\n",
       "\n",
       "    .dataframe thead th {\n",
       "        text-align: right;\n",
       "    }\n",
       "</style>\n",
       "<table border=\"1\" class=\"dataframe\">\n",
       "  <thead>\n",
       "    <tr style=\"text-align: right;\">\n",
       "      <th></th>\n",
       "      <th>sex</th>\n",
       "      <th>count</th>\n",
       "      <th>mean</th>\n",
       "      <th>std</th>\n",
       "      <th>min</th>\n",
       "      <th>25%</th>\n",
       "      <th>50%</th>\n",
       "      <th>75%</th>\n",
       "      <th>max</th>\n",
       "    </tr>\n",
       "  </thead>\n",
       "  <tbody>\n",
       "    <tr>\n",
       "      <th>1</th>\n",
       "      <td>Male</td>\n",
       "      <td>8604.0</td>\n",
       "      <td>0.278010</td>\n",
       "      <td>0.564249</td>\n",
       "      <td>-1.0</td>\n",
       "      <td>0.0</td>\n",
       "      <td>0.0</td>\n",
       "      <td>1.0</td>\n",
       "      <td>1.0</td>\n",
       "    </tr>\n",
       "    <tr>\n",
       "      <th>0</th>\n",
       "      <td>Female</td>\n",
       "      <td>2251.0</td>\n",
       "      <td>0.171035</td>\n",
       "      <td>0.517752</td>\n",
       "      <td>-1.0</td>\n",
       "      <td>0.0</td>\n",
       "      <td>0.0</td>\n",
       "      <td>0.0</td>\n",
       "      <td>1.0</td>\n",
       "    </tr>\n",
       "  </tbody>\n",
       "</table>\n",
       "</div>"
      ],
      "text/plain": [
       "      sex   count      mean       std  min  25%  50%  75%  max\n",
       "1    Male  8604.0  0.278010  0.564249 -1.0  0.0  0.0  1.0  1.0\n",
       "0  Female  2251.0  0.171035  0.517752 -1.0  0.0  0.0  0.0  1.0"
      ]
     },
     "execution_count": 47,
     "metadata": {},
     "output_type": "execute_result"
    }
   ],
   "source": [
    "# Code Block 14\n",
    "#Grouping recidivism rates by gender and creating a new dataframe\n",
    "\n",
    "df_recid_gender = df_cvpf.groupby('sex')['is_recid'].describe()\n",
    "df_recid_gender= pd.DataFrame(df_recid_gender)\n",
    "df_recid_gender=df_recid_gender.reset_index()\n",
    "df_recid_gender=df_recid_gender.sort_values('sex', ascending = False)\n",
    "df_recid_gender.head()"
   ]
  },
  {
   "cell_type": "code",
   "execution_count": 49,
   "id": "380c8e52-6072-4f9a-bde1-c6e729b69f4f",
   "metadata": {
    "execution": {
     "iopub.execute_input": "2025-02-09T02:15:44.661640Z",
     "iopub.status.busy": "2025-02-09T02:15:44.661279Z",
     "iopub.status.idle": "2025-02-09T02:15:44.778791Z",
     "shell.execute_reply": "2025-02-09T02:15:44.778158Z",
     "shell.execute_reply.started": "2025-02-09T02:15:44.661618Z"
    }
   },
   "outputs": [
    {
     "data": {
      "image/png": "[encoded data removed]",
      "text/plain": [
       "<Figure size 800x500 with 1 Axes>"
      ]
     },
     "metadata": {},
     "output_type": "display_data"
    }
   ],
   "source": [
    "#Code Block 15\n",
    "#Creating the bar plot for recidivism rates by gender\n",
    "\n",
    "plt.figure(figsize=(8, 5))\n",
    "sns.barplot(x='sex' , y='count', data = df_recid_gender, palette = 'colorblind')\n",
    "plt.title('Recidivism Rates by Gender')\n",
    "plt.xlabel('Gender')\n",
    "plt.ylabel('Recidivism Rate')\n",
    "\n",
    "plt.show()"
   ]
  },
  {
   "cell_type": "code",
   "execution_count": 55,
   "id": "095aed32-d9ad-4937-98d3-2c17c3e16b53",
   "metadata": {
    "execution": {
     "iopub.execute_input": "2025-02-09T02:17:31.560699Z",
     "iopub.status.busy": "2025-02-09T02:17:31.560338Z",
     "iopub.status.idle": "2025-02-09T02:17:31.572180Z",
     "shell.execute_reply": "2025-02-09T02:17:31.571463Z",
     "shell.execute_reply.started": "2025-02-09T02:17:31.560674Z"
    }
   },
   "outputs": [
    {
     "data": {
      "text/html": [
       "<div>\n",
       "<style scoped>\n",
       "    .dataframe tbody tr th:only-of-type {\n",
       "        vertical-align: middle;\n",
       "    }\n",
       "\n",
       "    .dataframe tbody tr th {\n",
       "        vertical-align: top;\n",
       "    }\n",
       "\n",
       "    .dataframe thead th {\n",
       "        text-align: right;\n",
       "    }\n",
       "</style>\n",
       "<table border=\"1\" class=\"dataframe\">\n",
       "  <thead>\n",
       "    <tr style=\"text-align: right;\">\n",
       "      <th></th>\n",
       "      <th>sex</th>\n",
       "      <th>is_recid</th>\n",
       "      <th>type_of_assessment</th>\n",
       "      <th>decile_score.1</th>\n",
       "      <th>score_text</th>\n",
       "    </tr>\n",
       "  </thead>\n",
       "  <tbody>\n",
       "    <tr>\n",
       "      <th>0</th>\n",
       "      <td>Male</td>\n",
       "      <td>0</td>\n",
       "      <td>Risk of Recidivism</td>\n",
       "      <td>1</td>\n",
       "      <td>Low</td>\n",
       "    </tr>\n",
       "    <tr>\n",
       "      <th>2</th>\n",
       "      <td>Male</td>\n",
       "      <td>-1</td>\n",
       "      <td>Risk of Recidivism</td>\n",
       "      <td>5</td>\n",
       "      <td>Medium</td>\n",
       "    </tr>\n",
       "    <tr>\n",
       "      <th>3</th>\n",
       "      <td>Male</td>\n",
       "      <td>1</td>\n",
       "      <td>Risk of Recidivism</td>\n",
       "      <td>3</td>\n",
       "      <td>Low</td>\n",
       "    </tr>\n",
       "    <tr>\n",
       "      <th>4</th>\n",
       "      <td>Male</td>\n",
       "      <td>1</td>\n",
       "      <td>Risk of Recidivism</td>\n",
       "      <td>4</td>\n",
       "      <td>Low</td>\n",
       "    </tr>\n",
       "    <tr>\n",
       "      <th>9</th>\n",
       "      <td>Male</td>\n",
       "      <td>0</td>\n",
       "      <td>Risk of Recidivism</td>\n",
       "      <td>8</td>\n",
       "      <td>High</td>\n",
       "    </tr>\n",
       "    <tr>\n",
       "      <th>10</th>\n",
       "      <td>Male</td>\n",
       "      <td>0</td>\n",
       "      <td>Risk of Recidivism</td>\n",
       "      <td>1</td>\n",
       "      <td>Low</td>\n",
       "    </tr>\n",
       "    <tr>\n",
       "      <th>11</th>\n",
       "      <td>Male</td>\n",
       "      <td>0</td>\n",
       "      <td>Risk of Recidivism</td>\n",
       "      <td>1</td>\n",
       "      <td>Low</td>\n",
       "    </tr>\n",
       "    <tr>\n",
       "      <th>12</th>\n",
       "      <td>Male</td>\n",
       "      <td>1</td>\n",
       "      <td>Risk of Recidivism</td>\n",
       "      <td>6</td>\n",
       "      <td>Medium</td>\n",
       "    </tr>\n",
       "    <tr>\n",
       "      <th>14</th>\n",
       "      <td>Male</td>\n",
       "      <td>0</td>\n",
       "      <td>Risk of Recidivism</td>\n",
       "      <td>4</td>\n",
       "      <td>Low</td>\n",
       "    </tr>\n",
       "    <tr>\n",
       "      <th>17</th>\n",
       "      <td>Female</td>\n",
       "      <td>0</td>\n",
       "      <td>Risk of Recidivism</td>\n",
       "      <td>1</td>\n",
       "      <td>Low</td>\n",
       "    </tr>\n",
       "  </tbody>\n",
       "</table>\n",
       "</div>"
      ],
      "text/plain": [
       "       sex  is_recid  type_of_assessment  decile_score.1 score_text\n",
       "0     Male         0  Risk of Recidivism               1        Low\n",
       "2     Male        -1  Risk of Recidivism               5     Medium\n",
       "3     Male         1  Risk of Recidivism               3        Low\n",
       "4     Male         1  Risk of Recidivism               4        Low\n",
       "9     Male         0  Risk of Recidivism               8       High\n",
       "10    Male         0  Risk of Recidivism               1        Low\n",
       "11    Male         0  Risk of Recidivism               1        Low\n",
       "12    Male         1  Risk of Recidivism               6     Medium\n",
       "14    Male         0  Risk of Recidivism               4        Low\n",
       "17  Female         0  Risk of Recidivism               1        Low"
      ]
     },
     "execution_count": 55,
     "metadata": {},
     "output_type": "execute_result"
    }
   ],
   "source": [
    "#Code Block 16\n",
    "#View limited columns in the data set for easier viewing and organization\n",
    "\n",
    "df_cvpf_clean[['sex','is_recid', 'type_of_assessment', 'decile_score.1', 'score_text']].head(10)"
   ]
  },
  {
   "cell_type": "code",
   "execution_count": 57,
   "id": "baae6610-d3b7-4fb8-bbed-63012e4db42a",
   "metadata": {
    "execution": {
     "iopub.execute_input": "2025-02-09T02:17:48.798908Z",
     "iopub.status.busy": "2025-02-09T02:17:48.798278Z",
     "iopub.status.idle": "2025-02-09T02:17:48.813683Z",
     "shell.execute_reply": "2025-02-09T02:17:48.813103Z",
     "shell.execute_reply.started": "2025-02-09T02:17:48.798882Z"
    }
   },
   "outputs": [
    {
     "data": {
      "text/plain": [
       "sex     decile_score.1  score_text\n",
       "Female   1              Low            488\n",
       "         2              Low            331\n",
       "         3              Low            283\n",
       "         4              Low            250\n",
       "         5              Medium         229\n",
       "         6              Medium         216\n",
       "         7              Medium         153\n",
       "         9              High           110\n",
       "         8              High           107\n",
       "         10             High            80\n",
       "        -1              0                4\n",
       "Male     1              Low           1884\n",
       "         2              Low           1126\n",
       "         3              Low            885\n",
       "         4              Low            864\n",
       "         5              Medium         732\n",
       "         6              Medium         700\n",
       "         7              Medium         684\n",
       "         8              High           632\n",
       "         9              High           617\n",
       "         10             High           470\n",
       "        -1              0               10\n",
       "Name: count, dtype: int64"
      ]
     },
     "execution_count": 57,
     "metadata": {},
     "output_type": "execute_result"
    }
   ],
   "source": [
    "#Code Block 17\n",
    "#View decile scores and score text by gender to identify the definition of \"High\" score\n",
    "\n",
    "df_cvpf_clean.groupby('sex')[['decile_score.1','score_text']].value_counts()"
   ]
  },
  {
   "cell_type": "code",
   "execution_count": 59,
   "id": "1c11cfbf-342c-4313-9f5e-2e8cd9795a34",
   "metadata": {
    "execution": {
     "iopub.execute_input": "2025-02-09T02:18:05.709255Z",
     "iopub.status.busy": "2025-02-09T02:18:05.708522Z",
     "iopub.status.idle": "2025-02-09T02:18:05.719091Z",
     "shell.execute_reply": "2025-02-09T02:18:05.718383Z",
     "shell.execute_reply.started": "2025-02-09T02:18:05.709223Z"
    }
   },
   "outputs": [
    {
     "data": {
      "text/plain": [
       "sex     is_recid\n",
       "Female   0          1582\n",
       "         1           527\n",
       "        -1           142\n",
       "Male     0          5200\n",
       "         1          2898\n",
       "        -1           506\n",
       "Name: count, dtype: int64"
      ]
     },
     "execution_count": 59,
     "metadata": {},
     "output_type": "execute_result"
    }
   ],
   "source": [
    "#Code Block 18\n",
    "#View value counts for recidivism by gender\n",
    "df_cvpf_clean.groupby('sex')['is_recid'].value_counts()"
   ]
  },
  {
   "cell_type": "code",
   "execution_count": 61,
   "id": "c6b532a0-e600-49b0-a694-a725b887d3fe",
   "metadata": {
    "execution": {
     "iopub.execute_input": "2025-02-09T02:18:57.189481Z",
     "iopub.status.busy": "2025-02-09T02:18:57.189118Z",
     "iopub.status.idle": "2025-02-09T02:18:57.202111Z",
     "shell.execute_reply": "2025-02-09T02:18:57.201493Z",
     "shell.execute_reply.started": "2025-02-09T02:18:57.189458Z"
    }
   },
   "outputs": [
    {
     "name": "stdout",
     "output_type": "stream",
     "text": [
      "High Risk Counts:\n",
      " sex\n",
      "Female     297\n",
      "Male      1719\n",
      "dtype: int64\n",
      "False Positives (High Risk, No Recidivism):\n",
      " sex\n",
      "Female    157\n",
      "Male      738\n",
      "dtype: int64\n",
      "\n",
      "False Positive Rate:\n",
      " sex\n",
      "Female    0.528620\n",
      "Male      0.429319\n",
      "dtype: float64\n"
     ]
    }
   ],
   "source": [
    "#Code Block 19\n",
    "#Count total high-risk individuals by gender\n",
    "# ChatGPT was used for coding help \n",
    "\n",
    "high_risk_counts = df_cvpf_clean[df_cvpf_clean['score_text'] == \"High\"].groupby('sex').size()\n",
    "print(\"High Risk Counts:\\n\", high_risk_counts)\n",
    "\n",
    "#Count high-risk individuals who did NOT recidivate (is_recid == 0)\n",
    "false_positives = df_cvpf_clean[(df_cvpf_clean['score_text'] == \"High\") & (df_cvpf_clean['is_recid'] == 0)].groupby('sex').size()\n",
    "print(\"False Positives (High Risk, No Recidivism):\\n\", false_positives)\n",
    "\n",
    "#Calculate false positive rate\n",
    "false_positive_rate = (false_positives / high_risk_counts)\n",
    "print(\"\\nFalse Positive Rate:\\n\", false_positive_rate)\n"
   ]
  },
  {
   "cell_type": "code",
   "execution_count": 102,
   "id": "821301d7-013a-44f2-8787-28af5acd623b",
   "metadata": {
    "execution": {
     "iopub.execute_input": "2025-02-09T02:35:02.265921Z",
     "iopub.status.busy": "2025-02-09T02:35:02.265162Z",
     "iopub.status.idle": "2025-02-09T02:35:02.466845Z",
     "shell.execute_reply": "2025-02-09T02:35:02.466095Z",
     "shell.execute_reply.started": "2025-02-09T02:35:02.265885Z"
    }
   },
   "outputs": [
    {
     "data": {
      "image/png": "[encoded data removed]",
      "text/plain": [
       "<Figure size 800x500 with 1 Axes>"
      ]
     },
     "metadata": {},
     "output_type": "display_data"
    }
   ],
   "source": [
    "#Code Block 20\n",
    "#Barplot to show False Positive Rates by Gender\n",
    "#ChatGPT was used for coding help with calculation\n",
    "data = {\n",
    "    'sex': ['Female', 'Male'],\n",
    "    'high_risk_counts': [297, 1719],  \n",
    "    'false_positives': [157, 738]    \n",
    "}\n",
    "\n",
    "# Create a DataFrame to simulate the calculation\n",
    "df_false_positives = pd.DataFrame(data)\n",
    "\n",
    "# Calculate the false positives rate\n",
    "df_false_positives['false_positives_rate'] = (df_false_positives['false_positives'] / df_false_positives['high_risk_counts']) * 10\n",
    "\n",
    "df_false_positives = df_false_positives.sort_values('sex', ascending = False)\n",
    "\n",
    "#Plot the graph\n",
    "plt.figure(figsize=(8, 5))\n",
    "sns.barplot(x='sex' , y='false_positives_rate', data = df_false_positives , palette = 'colorblind')\n",
    "plt.title('False Positive Risk Score by Gender')\n",
    "plt.xlabel('Gender')\n",
    "plt.ylabel('False Positive Rate (%)')\n",
    "\n",
    "plt.show()"
   ]
  },
  {
   "cell_type": "code",
   "execution_count": 93,
   "id": "c05a2b6f-2ef1-4493-8aca-40f1e8a352a8",
   "metadata": {
    "execution": {
     "iopub.execute_input": "2025-02-09T02:27:07.519644Z",
     "iopub.status.busy": "2025-02-09T02:27:07.517415Z",
     "iopub.status.idle": "2025-02-09T02:27:07.555202Z",
     "shell.execute_reply": "2025-02-09T02:27:07.554316Z",
     "shell.execute_reply.started": "2025-02-09T02:27:07.519602Z"
    }
   },
   "outputs": [
    {
     "name": "stdout",
     "output_type": "stream",
     "text": [
      "Low Risk Counts:\n",
      " sex\n",
      "Female    1352\n",
      "Male      4759\n",
      "dtype: int64\n",
      "False Negatives (Low Risk, Recidivism):\n",
      " sex\n",
      "Female     209\n",
      "Male      1105\n",
      "dtype: int64\n",
      "\n",
      "False Negative Rate:\n",
      " sex\n",
      "Female    0.154586\n",
      "Male      0.232192\n",
      "dtype: float64\n"
     ]
    }
   ],
   "source": [
    "#Code Block 21\n",
    "#Used Chat GPT for assistance \n",
    "#Count total low-risk individuals by gender\n",
    "low_risk_counts = df_cvpf_clean[df_cvpf_clean['score_text'] == \"Low\"].groupby('sex').size()\n",
    "print(\"Low Risk Counts:\\n\", low_risk_counts)\n",
    "\n",
    "#Count high-risk individuals who did recidivate (is_recid == 0)\n",
    "false_negatives = df_cvpf_clean[(df_cvpf_clean['score_text'] == \"Low\") & (df_cvpf_clean['is_recid'] == 1)].groupby('sex').size()\n",
    "print(\"False Negatives (Low Risk, Recidivism):\\n\", false_negatives)\n",
    "\n",
    "#Calculate false positive rate\n",
    "false_negative_rate = (false_negatives / low_risk_counts)\n",
    "print(\"\\nFalse Negative Rate:\\n\", false_negative_rate)\n"
   ]
  },
  {
   "cell_type": "code",
   "execution_count": 110,
   "id": "cec41949-cd61-4c4b-b676-3c8b62ae8a7b",
   "metadata": {
    "execution": {
     "iopub.execute_input": "2025-02-09T02:37:17.998063Z",
     "iopub.status.busy": "2025-02-09T02:37:17.997128Z",
     "iopub.status.idle": "2025-02-09T02:37:18.151900Z",
     "shell.execute_reply": "2025-02-09T02:37:18.150644Z",
     "shell.execute_reply.started": "2025-02-09T02:37:17.998030Z"
    }
   },
   "outputs": [
    {
     "data": {
      "image/png": "[encoded data removed]",
      "text/plain": [
       "<Figure size 800x500 with 1 Axes>"
      ]
     },
     "metadata": {},
     "output_type": "display_data"
    }
   ],
   "source": [
    "#Code Block 22\n",
    "#Used ChatGPT\n",
    "# specifying the data to use\n",
    "data = {\n",
    "    'sex': ['Female', 'Male'],\n",
    "    'low_risk_counts': [1352, 4759],  \n",
    "    'false_negatives': [209, 1105]    # Replace with actual false negatives\n",
    "}\n",
    "\n",
    "# Create a DataFrame to simulate the calculation\n",
    "df_false_negatives = pd.DataFrame(data)\n",
    "\n",
    "# Calculate the false negative rate\n",
    "df_false_negatives['false_negatives_rate'] = (df_false_negatives['false_negatives'] / df_false_negatives['low_risk_counts']) * 100\n",
    "\n",
    "df_false_negatives = df_false_negatives.sort_values('sex', ascending = False)\n",
    "\n",
    "#Plot the graph\n",
    "plt.figure(figsize=(8, 5))\n",
    "sns.barplot(x='sex' , y='false_negatives_rate', data = df_false_negatives , palette = 'colorblind')\n",
    "plt.title('False Negative Assesment Scores By Gender')\n",
    "plt.xlabel('Gender')\n",
    "plt.ylabel('False Negative Rate (%)')\n",
    "\n",
    "plt.show()\n"
   ]
  },
  {
   "cell_type": "markdown",
   "id": "0e9f5472-eec9-4e14-b21f-10c9f4574522",
   "metadata": {},
   "source": [
    "## Summary Section 3: Recidivism By Gender and False Risk Ratings"
   ]
  },
  {
   "cell_type": "markdown",
   "id": "570a35b3-2bea-4473-88f6-71e75e41cfbc",
   "metadata": {
    "execution": {
     "iopub.execute_input": "2025-02-09T02:41:43.849759Z",
     "iopub.status.busy": "2025-02-09T02:41:43.849381Z",
     "iopub.status.idle": "2025-02-09T02:41:43.857859Z",
     "shell.execute_reply": "2025-02-09T02:41:43.856677Z",
     "shell.execute_reply.started": "2025-02-09T02:41:43.849733Z"
    }
   },
   "source": [
    "- Average rate of recidivism for all in the data set is: \n",
    "Male: 27.8%\n",
    "Female: 17.1%\n",
    "\n",
    "- False Positive: \n",
    "Female: 297 HR and 157 Recid for a rate of 52.9%\n",
    "Male: 1719 HR and 738 recid for a rate of 43.0%\n",
    "\n",
    "- False Negative: \n",
    "Female: 1352 LR 209 recid for a rate of 15.5%\n",
    "Male: 4759 LR 1105 recid for a rate of 23.2%\n",
    "\n",
    "- Men are on average 10% more likely to recidivate\n",
    "-Surprisingly, women had higher false positive scores\n",
    "-Surprising also that men had higher rates of false negatives, especially due to the disproportionality of men to women.\n",
    "- Needs further investigation into the factors for risk scores\n"
   ]
  },
  {
   "cell_type": "code",
   "execution_count": null,
   "id": "a320574e-4e04-4890-abb7-a54c028653f7",
   "metadata": {},
   "outputs": [],
   "source": []
  }
 ],
 "metadata": {
  "kernelspec": {
   "display_name": "anaconda-2024.02-py310",
   "language": "python",
   "name": "conda-env-anaconda-2024.02-py310-py"
  },
  "language_info": {
   "codemirror_mode": {
    "name": "ipython",
    "version": 3
   },
   "file_extension": ".py",
   "mimetype": "text/x-python",
   "name": "python",
   "nbconvert_exporter": "python",
   "pygments_lexer": "ipython3",
   "version": "3.10.14"
  }
 },
 "nbformat": 4,
 "nbformat_minor": 5
}
